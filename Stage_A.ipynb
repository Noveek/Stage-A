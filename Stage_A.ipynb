{
  "nbformat": 4,
  "nbformat_minor": 0,
  "metadata": {
    "colab": {
      "provenance": [],
      "authorship_tag": "ABX9TyONf2VLnuoNGg0XpwpSzLdu"
    },
    "kernelspec": {
      "name": "python3",
      "display_name": "Python 3"
    },
    "language_info": {
      "name": "python"
    }
  },
  "cells": [
    {
      "cell_type": "markdown",
      "source": [
        "#import tools"
      ],
      "metadata": {
        "id": "FE10RlNiKBpY"
      }
    },
    {
      "cell_type": "markdown",
      "source": [],
      "metadata": {
        "id": "fzR050JGKBL-"
      }
    },
    {
      "cell_type": "code",
      "execution_count": 1,
      "metadata": {
        "id": "TGzIuA9FIYEM"
      },
      "outputs": [],
      "source": [
        "import pandas as pd\n",
        "import numpy as np\n",
        "import seaborn as sns"
      ]
    },
    {
      "cell_type": "markdown",
      "source": [
        "#import files"
      ],
      "metadata": {
        "id": "tU6buRdKKOmD"
      }
    },
    {
      "cell_type": "code",
      "source": [
        "from google.colab import files\n",
        "uploaded = files.upload()"
      ],
      "metadata": {
        "colab": {
          "base_uri": "https://localhost:8080/",
          "height": 73
        },
        "id": "s2xLhBitJcXE",
        "outputId": "0e620053-71b8-4adf-ea54-d05c591bb565"
      },
      "execution_count": 2,
      "outputs": [
        {
          "output_type": "display_data",
          "data": {
            "text/plain": [
              "<IPython.core.display.HTML object>"
            ],
            "text/html": [
              "\n",
              "     <input type=\"file\" id=\"files-669ce0fe-09c8-484a-86d2-a9d9fbd5824c\" name=\"files[]\" multiple disabled\n",
              "        style=\"border:none\" />\n",
              "     <output id=\"result-669ce0fe-09c8-484a-86d2-a9d9fbd5824c\">\n",
              "      Upload widget is only available when the cell has been executed in the\n",
              "      current browser session. Please rerun this cell to enable.\n",
              "      </output>\n",
              "      <script>// Copyright 2017 Google LLC\n",
              "//\n",
              "// Licensed under the Apache License, Version 2.0 (the \"License\");\n",
              "// you may not use this file except in compliance with the License.\n",
              "// You may obtain a copy of the License at\n",
              "//\n",
              "//      http://www.apache.org/licenses/LICENSE-2.0\n",
              "//\n",
              "// Unless required by applicable law or agreed to in writing, software\n",
              "// distributed under the License is distributed on an \"AS IS\" BASIS,\n",
              "// WITHOUT WARRANTIES OR CONDITIONS OF ANY KIND, either express or implied.\n",
              "// See the License for the specific language governing permissions and\n",
              "// limitations under the License.\n",
              "\n",
              "/**\n",
              " * @fileoverview Helpers for google.colab Python module.\n",
              " */\n",
              "(function(scope) {\n",
              "function span(text, styleAttributes = {}) {\n",
              "  const element = document.createElement('span');\n",
              "  element.textContent = text;\n",
              "  for (const key of Object.keys(styleAttributes)) {\n",
              "    element.style[key] = styleAttributes[key];\n",
              "  }\n",
              "  return element;\n",
              "}\n",
              "\n",
              "// Max number of bytes which will be uploaded at a time.\n",
              "const MAX_PAYLOAD_SIZE = 100 * 1024;\n",
              "\n",
              "function _uploadFiles(inputId, outputId) {\n",
              "  const steps = uploadFilesStep(inputId, outputId);\n",
              "  const outputElement = document.getElementById(outputId);\n",
              "  // Cache steps on the outputElement to make it available for the next call\n",
              "  // to uploadFilesContinue from Python.\n",
              "  outputElement.steps = steps;\n",
              "\n",
              "  return _uploadFilesContinue(outputId);\n",
              "}\n",
              "\n",
              "// This is roughly an async generator (not supported in the browser yet),\n",
              "// where there are multiple asynchronous steps and the Python side is going\n",
              "// to poll for completion of each step.\n",
              "// This uses a Promise to block the python side on completion of each step,\n",
              "// then passes the result of the previous step as the input to the next step.\n",
              "function _uploadFilesContinue(outputId) {\n",
              "  const outputElement = document.getElementById(outputId);\n",
              "  const steps = outputElement.steps;\n",
              "\n",
              "  const next = steps.next(outputElement.lastPromiseValue);\n",
              "  return Promise.resolve(next.value.promise).then((value) => {\n",
              "    // Cache the last promise value to make it available to the next\n",
              "    // step of the generator.\n",
              "    outputElement.lastPromiseValue = value;\n",
              "    return next.value.response;\n",
              "  });\n",
              "}\n",
              "\n",
              "/**\n",
              " * Generator function which is called between each async step of the upload\n",
              " * process.\n",
              " * @param {string} inputId Element ID of the input file picker element.\n",
              " * @param {string} outputId Element ID of the output display.\n",
              " * @return {!Iterable<!Object>} Iterable of next steps.\n",
              " */\n",
              "function* uploadFilesStep(inputId, outputId) {\n",
              "  const inputElement = document.getElementById(inputId);\n",
              "  inputElement.disabled = false;\n",
              "\n",
              "  const outputElement = document.getElementById(outputId);\n",
              "  outputElement.innerHTML = '';\n",
              "\n",
              "  const pickedPromise = new Promise((resolve) => {\n",
              "    inputElement.addEventListener('change', (e) => {\n",
              "      resolve(e.target.files);\n",
              "    });\n",
              "  });\n",
              "\n",
              "  const cancel = document.createElement('button');\n",
              "  inputElement.parentElement.appendChild(cancel);\n",
              "  cancel.textContent = 'Cancel upload';\n",
              "  const cancelPromise = new Promise((resolve) => {\n",
              "    cancel.onclick = () => {\n",
              "      resolve(null);\n",
              "    };\n",
              "  });\n",
              "\n",
              "  // Wait for the user to pick the files.\n",
              "  const files = yield {\n",
              "    promise: Promise.race([pickedPromise, cancelPromise]),\n",
              "    response: {\n",
              "      action: 'starting',\n",
              "    }\n",
              "  };\n",
              "\n",
              "  cancel.remove();\n",
              "\n",
              "  // Disable the input element since further picks are not allowed.\n",
              "  inputElement.disabled = true;\n",
              "\n",
              "  if (!files) {\n",
              "    return {\n",
              "      response: {\n",
              "        action: 'complete',\n",
              "      }\n",
              "    };\n",
              "  }\n",
              "\n",
              "  for (const file of files) {\n",
              "    const li = document.createElement('li');\n",
              "    li.append(span(file.name, {fontWeight: 'bold'}));\n",
              "    li.append(span(\n",
              "        `(${file.type || 'n/a'}) - ${file.size} bytes, ` +\n",
              "        `last modified: ${\n",
              "            file.lastModifiedDate ? file.lastModifiedDate.toLocaleDateString() :\n",
              "                                    'n/a'} - `));\n",
              "    const percent = span('0% done');\n",
              "    li.appendChild(percent);\n",
              "\n",
              "    outputElement.appendChild(li);\n",
              "\n",
              "    const fileDataPromise = new Promise((resolve) => {\n",
              "      const reader = new FileReader();\n",
              "      reader.onload = (e) => {\n",
              "        resolve(e.target.result);\n",
              "      };\n",
              "      reader.readAsArrayBuffer(file);\n",
              "    });\n",
              "    // Wait for the data to be ready.\n",
              "    let fileData = yield {\n",
              "      promise: fileDataPromise,\n",
              "      response: {\n",
              "        action: 'continue',\n",
              "      }\n",
              "    };\n",
              "\n",
              "    // Use a chunked sending to avoid message size limits. See b/62115660.\n",
              "    let position = 0;\n",
              "    do {\n",
              "      const length = Math.min(fileData.byteLength - position, MAX_PAYLOAD_SIZE);\n",
              "      const chunk = new Uint8Array(fileData, position, length);\n",
              "      position += length;\n",
              "\n",
              "      const base64 = btoa(String.fromCharCode.apply(null, chunk));\n",
              "      yield {\n",
              "        response: {\n",
              "          action: 'append',\n",
              "          file: file.name,\n",
              "          data: base64,\n",
              "        },\n",
              "      };\n",
              "\n",
              "      let percentDone = fileData.byteLength === 0 ?\n",
              "          100 :\n",
              "          Math.round((position / fileData.byteLength) * 100);\n",
              "      percent.textContent = `${percentDone}% done`;\n",
              "\n",
              "    } while (position < fileData.byteLength);\n",
              "  }\n",
              "\n",
              "  // All done.\n",
              "  yield {\n",
              "    response: {\n",
              "      action: 'complete',\n",
              "    }\n",
              "  };\n",
              "}\n",
              "\n",
              "scope.google = scope.google || {};\n",
              "scope.google.colab = scope.google.colab || {};\n",
              "scope.google.colab._files = {\n",
              "  _uploadFiles,\n",
              "  _uploadFilesContinue,\n",
              "};\n",
              "})(self);\n",
              "</script> "
            ]
          },
          "metadata": {}
        },
        {
          "output_type": "stream",
          "name": "stdout",
          "text": [
            "Saving FoodBalanceSheets_E_Africa_NOFLAG.csv to FoodBalanceSheets_E_Africa_NOFLAG.csv\n"
          ]
        }
      ]
    },
    {
      "cell_type": "markdown",
      "source": [
        "#read file"
      ],
      "metadata": {
        "id": "f_lcv74EK5EY"
      }
    },
    {
      "cell_type": "code",
      "source": [
        "v2 = pd.read_csv('FoodBalanceSheets_E_Africa_NOFLAG.csv', encoding ='latin_1')\n",
        "v2.head(10)"
      ],
      "metadata": {
        "colab": {
          "base_uri": "https://localhost:8080/",
          "height": 598
        },
        "id": "a7HJMqYALF6Q",
        "outputId": "22b4d759-5776-4add-ecf9-d7e58112dde8"
      },
      "execution_count": 3,
      "outputs": [
        {
          "output_type": "execute_result",
          "data": {
            "text/plain": [
              "   Area Code     Area  Item Code              Item  Element Code  \\\n",
              "0          4  Algeria       2501        Population           511   \n",
              "1          4  Algeria       2501        Population          5301   \n",
              "2          4  Algeria       2901       Grand Total           664   \n",
              "3          4  Algeria       2901       Grand Total           674   \n",
              "4          4  Algeria       2901       Grand Total           684   \n",
              "5          4  Algeria       2903  Vegetal Products           664   \n",
              "6          4  Algeria       2903  Vegetal Products           674   \n",
              "7          4  Algeria       2903  Vegetal Products           684   \n",
              "8          4  Algeria       2941   Animal Products           664   \n",
              "9          4  Algeria       2941   Animal Products           674   \n",
              "\n",
              "                                  Element             Unit     Y2014  \\\n",
              "0           Total Population - Both sexes     1000 persons  38924.00   \n",
              "1                Domestic supply quantity      1000 tonnes      0.00   \n",
              "2           Food supply (kcal/capita/day)  kcal/capita/day   3377.00   \n",
              "3  Protein supply quantity (g/capita/day)     g/capita/day     94.90   \n",
              "4      Fat supply quantity (g/capita/day)     g/capita/day     80.06   \n",
              "5           Food supply (kcal/capita/day)  kcal/capita/day   2932.00   \n",
              "6  Protein supply quantity (g/capita/day)     g/capita/day     67.14   \n",
              "7      Fat supply quantity (g/capita/day)     g/capita/day     53.84   \n",
              "8           Food supply (kcal/capita/day)  kcal/capita/day    444.00   \n",
              "9  Protein supply quantity (g/capita/day)     g/capita/day     27.76   \n",
              "\n",
              "      Y2015     Y2016     Y2017     Y2018  \n",
              "0  39728.00  40551.00  41389.00  42228.00  \n",
              "1      0.00      0.00      0.00      0.00  \n",
              "2   3379.00   3372.00   3341.00   3322.00  \n",
              "3     94.35     94.72     92.82     91.83  \n",
              "4     79.36     77.40     80.19     77.28  \n",
              "5   2958.00   2941.00   2921.00   2932.00  \n",
              "6     67.38     67.37     66.11     67.10  \n",
              "7     54.72     52.04     55.59     54.57  \n",
              "8    421.00    431.00    421.00    390.00  \n",
              "9     26.97     27.35     26.71     24.73  "
            ],
            "text/html": [
              "\n",
              "  <div id=\"df-71587eab-3533-4ad5-8ec2-ec6f81e2fcc7\">\n",
              "    <div class=\"colab-df-container\">\n",
              "      <div>\n",
              "<style scoped>\n",
              "    .dataframe tbody tr th:only-of-type {\n",
              "        vertical-align: middle;\n",
              "    }\n",
              "\n",
              "    .dataframe tbody tr th {\n",
              "        vertical-align: top;\n",
              "    }\n",
              "\n",
              "    .dataframe thead th {\n",
              "        text-align: right;\n",
              "    }\n",
              "</style>\n",
              "<table border=\"1\" class=\"dataframe\">\n",
              "  <thead>\n",
              "    <tr style=\"text-align: right;\">\n",
              "      <th></th>\n",
              "      <th>Area Code</th>\n",
              "      <th>Area</th>\n",
              "      <th>Item Code</th>\n",
              "      <th>Item</th>\n",
              "      <th>Element Code</th>\n",
              "      <th>Element</th>\n",
              "      <th>Unit</th>\n",
              "      <th>Y2014</th>\n",
              "      <th>Y2015</th>\n",
              "      <th>Y2016</th>\n",
              "      <th>Y2017</th>\n",
              "      <th>Y2018</th>\n",
              "    </tr>\n",
              "  </thead>\n",
              "  <tbody>\n",
              "    <tr>\n",
              "      <th>0</th>\n",
              "      <td>4</td>\n",
              "      <td>Algeria</td>\n",
              "      <td>2501</td>\n",
              "      <td>Population</td>\n",
              "      <td>511</td>\n",
              "      <td>Total Population - Both sexes</td>\n",
              "      <td>1000 persons</td>\n",
              "      <td>38924.00</td>\n",
              "      <td>39728.00</td>\n",
              "      <td>40551.00</td>\n",
              "      <td>41389.00</td>\n",
              "      <td>42228.00</td>\n",
              "    </tr>\n",
              "    <tr>\n",
              "      <th>1</th>\n",
              "      <td>4</td>\n",
              "      <td>Algeria</td>\n",
              "      <td>2501</td>\n",
              "      <td>Population</td>\n",
              "      <td>5301</td>\n",
              "      <td>Domestic supply quantity</td>\n",
              "      <td>1000 tonnes</td>\n",
              "      <td>0.00</td>\n",
              "      <td>0.00</td>\n",
              "      <td>0.00</td>\n",
              "      <td>0.00</td>\n",
              "      <td>0.00</td>\n",
              "    </tr>\n",
              "    <tr>\n",
              "      <th>2</th>\n",
              "      <td>4</td>\n",
              "      <td>Algeria</td>\n",
              "      <td>2901</td>\n",
              "      <td>Grand Total</td>\n",
              "      <td>664</td>\n",
              "      <td>Food supply (kcal/capita/day)</td>\n",
              "      <td>kcal/capita/day</td>\n",
              "      <td>3377.00</td>\n",
              "      <td>3379.00</td>\n",
              "      <td>3372.00</td>\n",
              "      <td>3341.00</td>\n",
              "      <td>3322.00</td>\n",
              "    </tr>\n",
              "    <tr>\n",
              "      <th>3</th>\n",
              "      <td>4</td>\n",
              "      <td>Algeria</td>\n",
              "      <td>2901</td>\n",
              "      <td>Grand Total</td>\n",
              "      <td>674</td>\n",
              "      <td>Protein supply quantity (g/capita/day)</td>\n",
              "      <td>g/capita/day</td>\n",
              "      <td>94.90</td>\n",
              "      <td>94.35</td>\n",
              "      <td>94.72</td>\n",
              "      <td>92.82</td>\n",
              "      <td>91.83</td>\n",
              "    </tr>\n",
              "    <tr>\n",
              "      <th>4</th>\n",
              "      <td>4</td>\n",
              "      <td>Algeria</td>\n",
              "      <td>2901</td>\n",
              "      <td>Grand Total</td>\n",
              "      <td>684</td>\n",
              "      <td>Fat supply quantity (g/capita/day)</td>\n",
              "      <td>g/capita/day</td>\n",
              "      <td>80.06</td>\n",
              "      <td>79.36</td>\n",
              "      <td>77.40</td>\n",
              "      <td>80.19</td>\n",
              "      <td>77.28</td>\n",
              "    </tr>\n",
              "    <tr>\n",
              "      <th>5</th>\n",
              "      <td>4</td>\n",
              "      <td>Algeria</td>\n",
              "      <td>2903</td>\n",
              "      <td>Vegetal Products</td>\n",
              "      <td>664</td>\n",
              "      <td>Food supply (kcal/capita/day)</td>\n",
              "      <td>kcal/capita/day</td>\n",
              "      <td>2932.00</td>\n",
              "      <td>2958.00</td>\n",
              "      <td>2941.00</td>\n",
              "      <td>2921.00</td>\n",
              "      <td>2932.00</td>\n",
              "    </tr>\n",
              "    <tr>\n",
              "      <th>6</th>\n",
              "      <td>4</td>\n",
              "      <td>Algeria</td>\n",
              "      <td>2903</td>\n",
              "      <td>Vegetal Products</td>\n",
              "      <td>674</td>\n",
              "      <td>Protein supply quantity (g/capita/day)</td>\n",
              "      <td>g/capita/day</td>\n",
              "      <td>67.14</td>\n",
              "      <td>67.38</td>\n",
              "      <td>67.37</td>\n",
              "      <td>66.11</td>\n",
              "      <td>67.10</td>\n",
              "    </tr>\n",
              "    <tr>\n",
              "      <th>7</th>\n",
              "      <td>4</td>\n",
              "      <td>Algeria</td>\n",
              "      <td>2903</td>\n",
              "      <td>Vegetal Products</td>\n",
              "      <td>684</td>\n",
              "      <td>Fat supply quantity (g/capita/day)</td>\n",
              "      <td>g/capita/day</td>\n",
              "      <td>53.84</td>\n",
              "      <td>54.72</td>\n",
              "      <td>52.04</td>\n",
              "      <td>55.59</td>\n",
              "      <td>54.57</td>\n",
              "    </tr>\n",
              "    <tr>\n",
              "      <th>8</th>\n",
              "      <td>4</td>\n",
              "      <td>Algeria</td>\n",
              "      <td>2941</td>\n",
              "      <td>Animal Products</td>\n",
              "      <td>664</td>\n",
              "      <td>Food supply (kcal/capita/day)</td>\n",
              "      <td>kcal/capita/day</td>\n",
              "      <td>444.00</td>\n",
              "      <td>421.00</td>\n",
              "      <td>431.00</td>\n",
              "      <td>421.00</td>\n",
              "      <td>390.00</td>\n",
              "    </tr>\n",
              "    <tr>\n",
              "      <th>9</th>\n",
              "      <td>4</td>\n",
              "      <td>Algeria</td>\n",
              "      <td>2941</td>\n",
              "      <td>Animal Products</td>\n",
              "      <td>674</td>\n",
              "      <td>Protein supply quantity (g/capita/day)</td>\n",
              "      <td>g/capita/day</td>\n",
              "      <td>27.76</td>\n",
              "      <td>26.97</td>\n",
              "      <td>27.35</td>\n",
              "      <td>26.71</td>\n",
              "      <td>24.73</td>\n",
              "    </tr>\n",
              "  </tbody>\n",
              "</table>\n",
              "</div>\n",
              "      <button class=\"colab-df-convert\" onclick=\"convertToInteractive('df-71587eab-3533-4ad5-8ec2-ec6f81e2fcc7')\"\n",
              "              title=\"Convert this dataframe to an interactive table.\"\n",
              "              style=\"display:none;\">\n",
              "        \n",
              "  <svg xmlns=\"http://www.w3.org/2000/svg\" height=\"24px\"viewBox=\"0 0 24 24\"\n",
              "       width=\"24px\">\n",
              "    <path d=\"M0 0h24v24H0V0z\" fill=\"none\"/>\n",
              "    <path d=\"M18.56 5.44l.94 2.06.94-2.06 2.06-.94-2.06-.94-.94-2.06-.94 2.06-2.06.94zm-11 1L8.5 8.5l.94-2.06 2.06-.94-2.06-.94L8.5 2.5l-.94 2.06-2.06.94zm10 10l.94 2.06.94-2.06 2.06-.94-2.06-.94-.94-2.06-.94 2.06-2.06.94z\"/><path d=\"M17.41 7.96l-1.37-1.37c-.4-.4-.92-.59-1.43-.59-.52 0-1.04.2-1.43.59L10.3 9.45l-7.72 7.72c-.78.78-.78 2.05 0 2.83L4 21.41c.39.39.9.59 1.41.59.51 0 1.02-.2 1.41-.59l7.78-7.78 2.81-2.81c.8-.78.8-2.07 0-2.86zM5.41 20L4 18.59l7.72-7.72 1.47 1.35L5.41 20z\"/>\n",
              "  </svg>\n",
              "      </button>\n",
              "      \n",
              "  <style>\n",
              "    .colab-df-container {\n",
              "      display:flex;\n",
              "      flex-wrap:wrap;\n",
              "      gap: 12px;\n",
              "    }\n",
              "\n",
              "    .colab-df-convert {\n",
              "      background-color: #E8F0FE;\n",
              "      border: none;\n",
              "      border-radius: 50%;\n",
              "      cursor: pointer;\n",
              "      display: none;\n",
              "      fill: #1967D2;\n",
              "      height: 32px;\n",
              "      padding: 0 0 0 0;\n",
              "      width: 32px;\n",
              "    }\n",
              "\n",
              "    .colab-df-convert:hover {\n",
              "      background-color: #E2EBFA;\n",
              "      box-shadow: 0px 1px 2px rgba(60, 64, 67, 0.3), 0px 1px 3px 1px rgba(60, 64, 67, 0.15);\n",
              "      fill: #174EA6;\n",
              "    }\n",
              "\n",
              "    [theme=dark] .colab-df-convert {\n",
              "      background-color: #3B4455;\n",
              "      fill: #D2E3FC;\n",
              "    }\n",
              "\n",
              "    [theme=dark] .colab-df-convert:hover {\n",
              "      background-color: #434B5C;\n",
              "      box-shadow: 0px 1px 3px 1px rgba(0, 0, 0, 0.15);\n",
              "      filter: drop-shadow(0px 1px 2px rgba(0, 0, 0, 0.3));\n",
              "      fill: #FFFFFF;\n",
              "    }\n",
              "  </style>\n",
              "\n",
              "      <script>\n",
              "        const buttonEl =\n",
              "          document.querySelector('#df-71587eab-3533-4ad5-8ec2-ec6f81e2fcc7 button.colab-df-convert');\n",
              "        buttonEl.style.display =\n",
              "          google.colab.kernel.accessAllowed ? 'block' : 'none';\n",
              "\n",
              "        async function convertToInteractive(key) {\n",
              "          const element = document.querySelector('#df-71587eab-3533-4ad5-8ec2-ec6f81e2fcc7');\n",
              "          const dataTable =\n",
              "            await google.colab.kernel.invokeFunction('convertToInteractive',\n",
              "                                                     [key], {});\n",
              "          if (!dataTable) return;\n",
              "\n",
              "          const docLinkHtml = 'Like what you see? Visit the ' +\n",
              "            '<a target=\"_blank\" href=https://colab.research.google.com/notebooks/data_table.ipynb>data table notebook</a>'\n",
              "            + ' to learn more about interactive tables.';\n",
              "          element.innerHTML = '';\n",
              "          dataTable['output_type'] = 'display_data';\n",
              "          await google.colab.output.renderOutput(dataTable, element);\n",
              "          const docLink = document.createElement('div');\n",
              "          docLink.innerHTML = docLinkHtml;\n",
              "          element.appendChild(docLink);\n",
              "        }\n",
              "      </script>\n",
              "    </div>\n",
              "  </div>\n",
              "  "
            ]
          },
          "metadata": {},
          "execution_count": 3
        }
      ]
    },
    {
      "cell_type": "markdown",
      "source": [
        "#to check the number of roles and column"
      ],
      "metadata": {
        "id": "10DMGoiuNfwE"
      }
    },
    {
      "cell_type": "code",
      "source": [
        "v2.shape"
      ],
      "metadata": {
        "colab": {
          "base_uri": "https://localhost:8080/"
        },
        "id": "JMPD6lj9NqSx",
        "outputId": "eca84c64-f20a-4c08-a6c0-6e859fd12f90"
      },
      "execution_count": 4,
      "outputs": [
        {
          "output_type": "execute_result",
          "data": {
            "text/plain": [
              "(60943, 12)"
            ]
          },
          "metadata": {},
          "execution_count": 4
        }
      ]
    },
    {
      "cell_type": "markdown",
      "source": [
        "#check for the number of length"
      ],
      "metadata": {
        "id": "GKGcArwuOJi6"
      }
    },
    {
      "cell_type": "code",
      "source": [
        "len(v2)"
      ],
      "metadata": {
        "colab": {
          "base_uri": "https://localhost:8080/"
        },
        "id": "-m_tDx6JOQp8",
        "outputId": "3e9d8529-83de-4abc-a197-4b987a47f54a"
      },
      "execution_count": 5,
      "outputs": [
        {
          "output_type": "execute_result",
          "data": {
            "text/plain": [
              "60943"
            ]
          },
          "metadata": {},
          "execution_count": 5
        }
      ]
    },
    {
      "cell_type": "markdown",
      "source": [
        "#to check the number of columns"
      ],
      "metadata": {
        "id": "exzMt1cyOY03"
      }
    },
    {
      "cell_type": "code",
      "source": [
        "len(v2.columns)"
      ],
      "metadata": {
        "colab": {
          "base_uri": "https://localhost:8080/"
        },
        "id": "Y7JWvG5zOftk",
        "outputId": "bbf9bd47-edc0-467b-9cd9-75b1bbf3445d"
      },
      "execution_count": 6,
      "outputs": [
        {
          "output_type": "execute_result",
          "data": {
            "text/plain": [
              "12"
            ]
          },
          "metadata": {},
          "execution_count": 6
        }
      ]
    },
    {
      "cell_type": "markdown",
      "source": [
        "#to check data type"
      ],
      "metadata": {
        "id": "bHHuhUygOydd"
      }
    },
    {
      "cell_type": "code",
      "source": [
        "v2.info()"
      ],
      "metadata": {
        "colab": {
          "base_uri": "https://localhost:8080/"
        },
        "id": "2YmeRkWFO2BR",
        "outputId": "568dbc84-a043-4cbe-ee1c-a05a78fa4538"
      },
      "execution_count": 7,
      "outputs": [
        {
          "output_type": "stream",
          "name": "stdout",
          "text": [
            "<class 'pandas.core.frame.DataFrame'>\n",
            "RangeIndex: 60943 entries, 0 to 60942\n",
            "Data columns (total 12 columns):\n",
            " #   Column        Non-Null Count  Dtype  \n",
            "---  ------        --------------  -----  \n",
            " 0   Area Code     60943 non-null  int64  \n",
            " 1   Area          60943 non-null  object \n",
            " 2   Item Code     60943 non-null  int64  \n",
            " 3   Item          60943 non-null  object \n",
            " 4   Element Code  60943 non-null  int64  \n",
            " 5   Element       60943 non-null  object \n",
            " 6   Unit          60943 non-null  object \n",
            " 7   Y2014         59354 non-null  float64\n",
            " 8   Y2015         59395 non-null  float64\n",
            " 9   Y2016         59408 non-null  float64\n",
            " 10  Y2017         59437 non-null  float64\n",
            " 11  Y2018         59507 non-null  float64\n",
            "dtypes: float64(5), int64(3), object(4)\n",
            "memory usage: 5.6+ MB\n"
          ]
        }
      ]
    },
    {
      "cell_type": "markdown",
      "source": [
        "#to check for missing datas"
      ],
      "metadata": {
        "id": "CD3ESvEXPmzg"
      }
    },
    {
      "cell_type": "code",
      "source": [
        "v2.isnull().sum()"
      ],
      "metadata": {
        "colab": {
          "base_uri": "https://localhost:8080/"
        },
        "id": "YiarlpMPPs7W",
        "outputId": "95dae4c2-1867-4ae5-b177-588e81240ba6"
      },
      "execution_count": 8,
      "outputs": [
        {
          "output_type": "execute_result",
          "data": {
            "text/plain": [
              "Area Code          0\n",
              "Area               0\n",
              "Item Code          0\n",
              "Item               0\n",
              "Element Code       0\n",
              "Element            0\n",
              "Unit               0\n",
              "Y2014           1589\n",
              "Y2015           1548\n",
              "Y2016           1535\n",
              "Y2017           1506\n",
              "Y2018           1436\n",
              "dtype: int64"
            ]
          },
          "metadata": {},
          "execution_count": 8
        }
      ]
    },
    {
      "cell_type": "markdown",
      "source": [
        "#to get the statistic detials"
      ],
      "metadata": {
        "id": "k7iFASdBQMD8"
      }
    },
    {
      "cell_type": "code",
      "source": [
        "v2.describe(include = 'all')"
      ],
      "metadata": {
        "colab": {
          "base_uri": "https://localhost:8080/",
          "height": 510
        },
        "id": "RdlehynqQTvM",
        "outputId": "c79dafc2-2d30-4674-b74f-5a428a9dc62c"
      },
      "execution_count": 9,
      "outputs": [
        {
          "output_type": "execute_result",
          "data": {
            "text/plain": [
              "           Area Code   Area     Item Code                     Item  \\\n",
              "count   60943.000000  60943  60943.000000                    60943   \n",
              "unique           NaN     49           NaN                      119   \n",
              "top              NaN  Kenya           NaN  Milk - Excluding Butter   \n",
              "freq             NaN   1560           NaN                     1262   \n",
              "mean      134.265576    NaN   2687.176706                      NaN   \n",
              "std        72.605709    NaN    146.055739                      NaN   \n",
              "min         4.000000    NaN   2501.000000                      NaN   \n",
              "25%        74.000000    NaN   2562.000000                      NaN   \n",
              "50%       136.000000    NaN   2630.000000                      NaN   \n",
              "75%       195.000000    NaN   2775.000000                      NaN   \n",
              "max       276.000000    NaN   2961.000000                      NaN   \n",
              "\n",
              "        Element Code                   Element         Unit          Y2014  \\\n",
              "count   60943.000000                     60943        60943   59354.000000   \n",
              "unique           NaN                        18            5            NaN   \n",
              "top              NaN  Domestic supply quantity  1000 tonnes            NaN   \n",
              "freq             NaN                      5295        40933            NaN   \n",
              "mean     3814.856456                       NaN          NaN     134.196282   \n",
              "std      2212.007033                       NaN          NaN    1567.663696   \n",
              "min       511.000000                       NaN          NaN   -1796.000000   \n",
              "25%       684.000000                       NaN          NaN       0.000000   \n",
              "50%      5142.000000                       NaN          NaN       0.090000   \n",
              "75%      5511.000000                       NaN          NaN       8.340000   \n",
              "max      5911.000000                       NaN          NaN  176405.000000   \n",
              "\n",
              "                Y2015          Y2016          Y2017          Y2018  \n",
              "count    59395.000000   59408.000000   59437.000000   59507.000000  \n",
              "unique            NaN            NaN            NaN            NaN  \n",
              "top               NaN            NaN            NaN            NaN  \n",
              "freq              NaN            NaN            NaN            NaN  \n",
              "mean       135.235966     136.555222     140.917765     143.758381  \n",
              "std       1603.403984    1640.007194    1671.862359    1710.782658  \n",
              "min      -3161.000000   -3225.000000   -1582.000000   -3396.000000  \n",
              "25%          0.000000       0.000000       0.000000       0.000000  \n",
              "50%          0.080000       0.080000       0.100000       0.070000  \n",
              "75%          8.460000       8.430000       9.000000       9.000000  \n",
              "max     181137.000000  185960.000000  190873.000000  195875.000000  "
            ],
            "text/html": [
              "\n",
              "  <div id=\"df-0fd7f472-1fa7-4d23-b8d1-d5f8f55311e4\">\n",
              "    <div class=\"colab-df-container\">\n",
              "      <div>\n",
              "<style scoped>\n",
              "    .dataframe tbody tr th:only-of-type {\n",
              "        vertical-align: middle;\n",
              "    }\n",
              "\n",
              "    .dataframe tbody tr th {\n",
              "        vertical-align: top;\n",
              "    }\n",
              "\n",
              "    .dataframe thead th {\n",
              "        text-align: right;\n",
              "    }\n",
              "</style>\n",
              "<table border=\"1\" class=\"dataframe\">\n",
              "  <thead>\n",
              "    <tr style=\"text-align: right;\">\n",
              "      <th></th>\n",
              "      <th>Area Code</th>\n",
              "      <th>Area</th>\n",
              "      <th>Item Code</th>\n",
              "      <th>Item</th>\n",
              "      <th>Element Code</th>\n",
              "      <th>Element</th>\n",
              "      <th>Unit</th>\n",
              "      <th>Y2014</th>\n",
              "      <th>Y2015</th>\n",
              "      <th>Y2016</th>\n",
              "      <th>Y2017</th>\n",
              "      <th>Y2018</th>\n",
              "    </tr>\n",
              "  </thead>\n",
              "  <tbody>\n",
              "    <tr>\n",
              "      <th>count</th>\n",
              "      <td>60943.000000</td>\n",
              "      <td>60943</td>\n",
              "      <td>60943.000000</td>\n",
              "      <td>60943</td>\n",
              "      <td>60943.000000</td>\n",
              "      <td>60943</td>\n",
              "      <td>60943</td>\n",
              "      <td>59354.000000</td>\n",
              "      <td>59395.000000</td>\n",
              "      <td>59408.000000</td>\n",
              "      <td>59437.000000</td>\n",
              "      <td>59507.000000</td>\n",
              "    </tr>\n",
              "    <tr>\n",
              "      <th>unique</th>\n",
              "      <td>NaN</td>\n",
              "      <td>49</td>\n",
              "      <td>NaN</td>\n",
              "      <td>119</td>\n",
              "      <td>NaN</td>\n",
              "      <td>18</td>\n",
              "      <td>5</td>\n",
              "      <td>NaN</td>\n",
              "      <td>NaN</td>\n",
              "      <td>NaN</td>\n",
              "      <td>NaN</td>\n",
              "      <td>NaN</td>\n",
              "    </tr>\n",
              "    <tr>\n",
              "      <th>top</th>\n",
              "      <td>NaN</td>\n",
              "      <td>Kenya</td>\n",
              "      <td>NaN</td>\n",
              "      <td>Milk - Excluding Butter</td>\n",
              "      <td>NaN</td>\n",
              "      <td>Domestic supply quantity</td>\n",
              "      <td>1000 tonnes</td>\n",
              "      <td>NaN</td>\n",
              "      <td>NaN</td>\n",
              "      <td>NaN</td>\n",
              "      <td>NaN</td>\n",
              "      <td>NaN</td>\n",
              "    </tr>\n",
              "    <tr>\n",
              "      <th>freq</th>\n",
              "      <td>NaN</td>\n",
              "      <td>1560</td>\n",
              "      <td>NaN</td>\n",
              "      <td>1262</td>\n",
              "      <td>NaN</td>\n",
              "      <td>5295</td>\n",
              "      <td>40933</td>\n",
              "      <td>NaN</td>\n",
              "      <td>NaN</td>\n",
              "      <td>NaN</td>\n",
              "      <td>NaN</td>\n",
              "      <td>NaN</td>\n",
              "    </tr>\n",
              "    <tr>\n",
              "      <th>mean</th>\n",
              "      <td>134.265576</td>\n",
              "      <td>NaN</td>\n",
              "      <td>2687.176706</td>\n",
              "      <td>NaN</td>\n",
              "      <td>3814.856456</td>\n",
              "      <td>NaN</td>\n",
              "      <td>NaN</td>\n",
              "      <td>134.196282</td>\n",
              "      <td>135.235966</td>\n",
              "      <td>136.555222</td>\n",
              "      <td>140.917765</td>\n",
              "      <td>143.758381</td>\n",
              "    </tr>\n",
              "    <tr>\n",
              "      <th>std</th>\n",
              "      <td>72.605709</td>\n",
              "      <td>NaN</td>\n",
              "      <td>146.055739</td>\n",
              "      <td>NaN</td>\n",
              "      <td>2212.007033</td>\n",
              "      <td>NaN</td>\n",
              "      <td>NaN</td>\n",
              "      <td>1567.663696</td>\n",
              "      <td>1603.403984</td>\n",
              "      <td>1640.007194</td>\n",
              "      <td>1671.862359</td>\n",
              "      <td>1710.782658</td>\n",
              "    </tr>\n",
              "    <tr>\n",
              "      <th>min</th>\n",
              "      <td>4.000000</td>\n",
              "      <td>NaN</td>\n",
              "      <td>2501.000000</td>\n",
              "      <td>NaN</td>\n",
              "      <td>511.000000</td>\n",
              "      <td>NaN</td>\n",
              "      <td>NaN</td>\n",
              "      <td>-1796.000000</td>\n",
              "      <td>-3161.000000</td>\n",
              "      <td>-3225.000000</td>\n",
              "      <td>-1582.000000</td>\n",
              "      <td>-3396.000000</td>\n",
              "    </tr>\n",
              "    <tr>\n",
              "      <th>25%</th>\n",
              "      <td>74.000000</td>\n",
              "      <td>NaN</td>\n",
              "      <td>2562.000000</td>\n",
              "      <td>NaN</td>\n",
              "      <td>684.000000</td>\n",
              "      <td>NaN</td>\n",
              "      <td>NaN</td>\n",
              "      <td>0.000000</td>\n",
              "      <td>0.000000</td>\n",
              "      <td>0.000000</td>\n",
              "      <td>0.000000</td>\n",
              "      <td>0.000000</td>\n",
              "    </tr>\n",
              "    <tr>\n",
              "      <th>50%</th>\n",
              "      <td>136.000000</td>\n",
              "      <td>NaN</td>\n",
              "      <td>2630.000000</td>\n",
              "      <td>NaN</td>\n",
              "      <td>5142.000000</td>\n",
              "      <td>NaN</td>\n",
              "      <td>NaN</td>\n",
              "      <td>0.090000</td>\n",
              "      <td>0.080000</td>\n",
              "      <td>0.080000</td>\n",
              "      <td>0.100000</td>\n",
              "      <td>0.070000</td>\n",
              "    </tr>\n",
              "    <tr>\n",
              "      <th>75%</th>\n",
              "      <td>195.000000</td>\n",
              "      <td>NaN</td>\n",
              "      <td>2775.000000</td>\n",
              "      <td>NaN</td>\n",
              "      <td>5511.000000</td>\n",
              "      <td>NaN</td>\n",
              "      <td>NaN</td>\n",
              "      <td>8.340000</td>\n",
              "      <td>8.460000</td>\n",
              "      <td>8.430000</td>\n",
              "      <td>9.000000</td>\n",
              "      <td>9.000000</td>\n",
              "    </tr>\n",
              "    <tr>\n",
              "      <th>max</th>\n",
              "      <td>276.000000</td>\n",
              "      <td>NaN</td>\n",
              "      <td>2961.000000</td>\n",
              "      <td>NaN</td>\n",
              "      <td>5911.000000</td>\n",
              "      <td>NaN</td>\n",
              "      <td>NaN</td>\n",
              "      <td>176405.000000</td>\n",
              "      <td>181137.000000</td>\n",
              "      <td>185960.000000</td>\n",
              "      <td>190873.000000</td>\n",
              "      <td>195875.000000</td>\n",
              "    </tr>\n",
              "  </tbody>\n",
              "</table>\n",
              "</div>\n",
              "      <button class=\"colab-df-convert\" onclick=\"convertToInteractive('df-0fd7f472-1fa7-4d23-b8d1-d5f8f55311e4')\"\n",
              "              title=\"Convert this dataframe to an interactive table.\"\n",
              "              style=\"display:none;\">\n",
              "        \n",
              "  <svg xmlns=\"http://www.w3.org/2000/svg\" height=\"24px\"viewBox=\"0 0 24 24\"\n",
              "       width=\"24px\">\n",
              "    <path d=\"M0 0h24v24H0V0z\" fill=\"none\"/>\n",
              "    <path d=\"M18.56 5.44l.94 2.06.94-2.06 2.06-.94-2.06-.94-.94-2.06-.94 2.06-2.06.94zm-11 1L8.5 8.5l.94-2.06 2.06-.94-2.06-.94L8.5 2.5l-.94 2.06-2.06.94zm10 10l.94 2.06.94-2.06 2.06-.94-2.06-.94-.94-2.06-.94 2.06-2.06.94z\"/><path d=\"M17.41 7.96l-1.37-1.37c-.4-.4-.92-.59-1.43-.59-.52 0-1.04.2-1.43.59L10.3 9.45l-7.72 7.72c-.78.78-.78 2.05 0 2.83L4 21.41c.39.39.9.59 1.41.59.51 0 1.02-.2 1.41-.59l7.78-7.78 2.81-2.81c.8-.78.8-2.07 0-2.86zM5.41 20L4 18.59l7.72-7.72 1.47 1.35L5.41 20z\"/>\n",
              "  </svg>\n",
              "      </button>\n",
              "      \n",
              "  <style>\n",
              "    .colab-df-container {\n",
              "      display:flex;\n",
              "      flex-wrap:wrap;\n",
              "      gap: 12px;\n",
              "    }\n",
              "\n",
              "    .colab-df-convert {\n",
              "      background-color: #E8F0FE;\n",
              "      border: none;\n",
              "      border-radius: 50%;\n",
              "      cursor: pointer;\n",
              "      display: none;\n",
              "      fill: #1967D2;\n",
              "      height: 32px;\n",
              "      padding: 0 0 0 0;\n",
              "      width: 32px;\n",
              "    }\n",
              "\n",
              "    .colab-df-convert:hover {\n",
              "      background-color: #E2EBFA;\n",
              "      box-shadow: 0px 1px 2px rgba(60, 64, 67, 0.3), 0px 1px 3px 1px rgba(60, 64, 67, 0.15);\n",
              "      fill: #174EA6;\n",
              "    }\n",
              "\n",
              "    [theme=dark] .colab-df-convert {\n",
              "      background-color: #3B4455;\n",
              "      fill: #D2E3FC;\n",
              "    }\n",
              "\n",
              "    [theme=dark] .colab-df-convert:hover {\n",
              "      background-color: #434B5C;\n",
              "      box-shadow: 0px 1px 3px 1px rgba(0, 0, 0, 0.15);\n",
              "      filter: drop-shadow(0px 1px 2px rgba(0, 0, 0, 0.3));\n",
              "      fill: #FFFFFF;\n",
              "    }\n",
              "  </style>\n",
              "\n",
              "      <script>\n",
              "        const buttonEl =\n",
              "          document.querySelector('#df-0fd7f472-1fa7-4d23-b8d1-d5f8f55311e4 button.colab-df-convert');\n",
              "        buttonEl.style.display =\n",
              "          google.colab.kernel.accessAllowed ? 'block' : 'none';\n",
              "\n",
              "        async function convertToInteractive(key) {\n",
              "          const element = document.querySelector('#df-0fd7f472-1fa7-4d23-b8d1-d5f8f55311e4');\n",
              "          const dataTable =\n",
              "            await google.colab.kernel.invokeFunction('convertToInteractive',\n",
              "                                                     [key], {});\n",
              "          if (!dataTable) return;\n",
              "\n",
              "          const docLinkHtml = 'Like what you see? Visit the ' +\n",
              "            '<a target=\"_blank\" href=https://colab.research.google.com/notebooks/data_table.ipynb>data table notebook</a>'\n",
              "            + ' to learn more about interactive tables.';\n",
              "          element.innerHTML = '';\n",
              "          dataTable['output_type'] = 'display_data';\n",
              "          await google.colab.output.renderOutput(dataTable, element);\n",
              "          const docLink = document.createElement('div');\n",
              "          docLink.innerHTML = docLinkHtml;\n",
              "          element.appendChild(docLink);\n",
              "        }\n",
              "      </script>\n",
              "    </div>\n",
              "  </div>\n",
              "  "
            ]
          },
          "metadata": {},
          "execution_count": 9
        }
      ]
    },
    {
      "cell_type": "markdown",
      "source": [
        "#fill in missing datas"
      ],
      "metadata": {
        "id": "FHPARUUNRStE"
      }
    },
    {
      "cell_type": "code",
      "source": [
        "v1 = v2.fillna({'Y2014' : 176405, 'Y2015' : 181137, 'Y2016' : 185960, 'Y2017' : 190873, 'Y2018' : 195875 })\n",
        "v1\n"
      ],
      "metadata": {
        "colab": {
          "base_uri": "https://localhost:8080/",
          "height": 693
        },
        "id": "qP1YFw39RXXk",
        "outputId": "b365b16e-8747-4a41-d9da-7f6d58c3b08d"
      },
      "execution_count": 10,
      "outputs": [
        {
          "output_type": "execute_result",
          "data": {
            "text/plain": [
              "       Area Code      Area  Item Code           Item  Element Code  \\\n",
              "0              4   Algeria       2501     Population           511   \n",
              "1              4   Algeria       2501     Population          5301   \n",
              "2              4   Algeria       2901    Grand Total           664   \n",
              "3              4   Algeria       2901    Grand Total           674   \n",
              "4              4   Algeria       2901    Grand Total           684   \n",
              "...          ...       ...        ...            ...           ...   \n",
              "60938        181  Zimbabwe       2899  Miscellaneous          5142   \n",
              "60939        181  Zimbabwe       2899  Miscellaneous           645   \n",
              "60940        181  Zimbabwe       2899  Miscellaneous           664   \n",
              "60941        181  Zimbabwe       2899  Miscellaneous           674   \n",
              "60942        181  Zimbabwe       2899  Miscellaneous           684   \n",
              "\n",
              "                                      Element             Unit     Y2014  \\\n",
              "0               Total Population - Both sexes     1000 persons  38924.00   \n",
              "1                    Domestic supply quantity      1000 tonnes      0.00   \n",
              "2               Food supply (kcal/capita/day)  kcal/capita/day   3377.00   \n",
              "3      Protein supply quantity (g/capita/day)     g/capita/day     94.90   \n",
              "4          Fat supply quantity (g/capita/day)     g/capita/day     80.06   \n",
              "...                                       ...              ...       ...   \n",
              "60938                                    Food      1000 tonnes     42.00   \n",
              "60939     Food supply quantity (kg/capita/yr)               kg      3.06   \n",
              "60940           Food supply (kcal/capita/day)  kcal/capita/day      3.00   \n",
              "60941  Protein supply quantity (g/capita/day)     g/capita/day      0.10   \n",
              "60942      Fat supply quantity (g/capita/day)     g/capita/day      0.04   \n",
              "\n",
              "          Y2015     Y2016     Y2017     Y2018  \n",
              "0      39728.00  40551.00  41389.00  42228.00  \n",
              "1          0.00      0.00      0.00      0.00  \n",
              "2       3379.00   3372.00   3341.00   3322.00  \n",
              "3         94.35     94.72     92.82     91.83  \n",
              "4         79.36     77.40     80.19     77.28  \n",
              "...         ...       ...       ...       ...  \n",
              "60938     46.00     33.00     19.00     16.00  \n",
              "60939      3.33      2.35      1.33      1.08  \n",
              "60940      4.00      3.00      1.00      1.00  \n",
              "60941      0.11      0.08      0.04      0.04  \n",
              "60942      0.05      0.03      0.02      0.01  \n",
              "\n",
              "[60943 rows x 12 columns]"
            ],
            "text/html": [
              "\n",
              "  <div id=\"df-a6155ec1-4731-4ad6-85bb-c1fea1a6348b\">\n",
              "    <div class=\"colab-df-container\">\n",
              "      <div>\n",
              "<style scoped>\n",
              "    .dataframe tbody tr th:only-of-type {\n",
              "        vertical-align: middle;\n",
              "    }\n",
              "\n",
              "    .dataframe tbody tr th {\n",
              "        vertical-align: top;\n",
              "    }\n",
              "\n",
              "    .dataframe thead th {\n",
              "        text-align: right;\n",
              "    }\n",
              "</style>\n",
              "<table border=\"1\" class=\"dataframe\">\n",
              "  <thead>\n",
              "    <tr style=\"text-align: right;\">\n",
              "      <th></th>\n",
              "      <th>Area Code</th>\n",
              "      <th>Area</th>\n",
              "      <th>Item Code</th>\n",
              "      <th>Item</th>\n",
              "      <th>Element Code</th>\n",
              "      <th>Element</th>\n",
              "      <th>Unit</th>\n",
              "      <th>Y2014</th>\n",
              "      <th>Y2015</th>\n",
              "      <th>Y2016</th>\n",
              "      <th>Y2017</th>\n",
              "      <th>Y2018</th>\n",
              "    </tr>\n",
              "  </thead>\n",
              "  <tbody>\n",
              "    <tr>\n",
              "      <th>0</th>\n",
              "      <td>4</td>\n",
              "      <td>Algeria</td>\n",
              "      <td>2501</td>\n",
              "      <td>Population</td>\n",
              "      <td>511</td>\n",
              "      <td>Total Population - Both sexes</td>\n",
              "      <td>1000 persons</td>\n",
              "      <td>38924.00</td>\n",
              "      <td>39728.00</td>\n",
              "      <td>40551.00</td>\n",
              "      <td>41389.00</td>\n",
              "      <td>42228.00</td>\n",
              "    </tr>\n",
              "    <tr>\n",
              "      <th>1</th>\n",
              "      <td>4</td>\n",
              "      <td>Algeria</td>\n",
              "      <td>2501</td>\n",
              "      <td>Population</td>\n",
              "      <td>5301</td>\n",
              "      <td>Domestic supply quantity</td>\n",
              "      <td>1000 tonnes</td>\n",
              "      <td>0.00</td>\n",
              "      <td>0.00</td>\n",
              "      <td>0.00</td>\n",
              "      <td>0.00</td>\n",
              "      <td>0.00</td>\n",
              "    </tr>\n",
              "    <tr>\n",
              "      <th>2</th>\n",
              "      <td>4</td>\n",
              "      <td>Algeria</td>\n",
              "      <td>2901</td>\n",
              "      <td>Grand Total</td>\n",
              "      <td>664</td>\n",
              "      <td>Food supply (kcal/capita/day)</td>\n",
              "      <td>kcal/capita/day</td>\n",
              "      <td>3377.00</td>\n",
              "      <td>3379.00</td>\n",
              "      <td>3372.00</td>\n",
              "      <td>3341.00</td>\n",
              "      <td>3322.00</td>\n",
              "    </tr>\n",
              "    <tr>\n",
              "      <th>3</th>\n",
              "      <td>4</td>\n",
              "      <td>Algeria</td>\n",
              "      <td>2901</td>\n",
              "      <td>Grand Total</td>\n",
              "      <td>674</td>\n",
              "      <td>Protein supply quantity (g/capita/day)</td>\n",
              "      <td>g/capita/day</td>\n",
              "      <td>94.90</td>\n",
              "      <td>94.35</td>\n",
              "      <td>94.72</td>\n",
              "      <td>92.82</td>\n",
              "      <td>91.83</td>\n",
              "    </tr>\n",
              "    <tr>\n",
              "      <th>4</th>\n",
              "      <td>4</td>\n",
              "      <td>Algeria</td>\n",
              "      <td>2901</td>\n",
              "      <td>Grand Total</td>\n",
              "      <td>684</td>\n",
              "      <td>Fat supply quantity (g/capita/day)</td>\n",
              "      <td>g/capita/day</td>\n",
              "      <td>80.06</td>\n",
              "      <td>79.36</td>\n",
              "      <td>77.40</td>\n",
              "      <td>80.19</td>\n",
              "      <td>77.28</td>\n",
              "    </tr>\n",
              "    <tr>\n",
              "      <th>...</th>\n",
              "      <td>...</td>\n",
              "      <td>...</td>\n",
              "      <td>...</td>\n",
              "      <td>...</td>\n",
              "      <td>...</td>\n",
              "      <td>...</td>\n",
              "      <td>...</td>\n",
              "      <td>...</td>\n",
              "      <td>...</td>\n",
              "      <td>...</td>\n",
              "      <td>...</td>\n",
              "      <td>...</td>\n",
              "    </tr>\n",
              "    <tr>\n",
              "      <th>60938</th>\n",
              "      <td>181</td>\n",
              "      <td>Zimbabwe</td>\n",
              "      <td>2899</td>\n",
              "      <td>Miscellaneous</td>\n",
              "      <td>5142</td>\n",
              "      <td>Food</td>\n",
              "      <td>1000 tonnes</td>\n",
              "      <td>42.00</td>\n",
              "      <td>46.00</td>\n",
              "      <td>33.00</td>\n",
              "      <td>19.00</td>\n",
              "      <td>16.00</td>\n",
              "    </tr>\n",
              "    <tr>\n",
              "      <th>60939</th>\n",
              "      <td>181</td>\n",
              "      <td>Zimbabwe</td>\n",
              "      <td>2899</td>\n",
              "      <td>Miscellaneous</td>\n",
              "      <td>645</td>\n",
              "      <td>Food supply quantity (kg/capita/yr)</td>\n",
              "      <td>kg</td>\n",
              "      <td>3.06</td>\n",
              "      <td>3.33</td>\n",
              "      <td>2.35</td>\n",
              "      <td>1.33</td>\n",
              "      <td>1.08</td>\n",
              "    </tr>\n",
              "    <tr>\n",
              "      <th>60940</th>\n",
              "      <td>181</td>\n",
              "      <td>Zimbabwe</td>\n",
              "      <td>2899</td>\n",
              "      <td>Miscellaneous</td>\n",
              "      <td>664</td>\n",
              "      <td>Food supply (kcal/capita/day)</td>\n",
              "      <td>kcal/capita/day</td>\n",
              "      <td>3.00</td>\n",
              "      <td>4.00</td>\n",
              "      <td>3.00</td>\n",
              "      <td>1.00</td>\n",
              "      <td>1.00</td>\n",
              "    </tr>\n",
              "    <tr>\n",
              "      <th>60941</th>\n",
              "      <td>181</td>\n",
              "      <td>Zimbabwe</td>\n",
              "      <td>2899</td>\n",
              "      <td>Miscellaneous</td>\n",
              "      <td>674</td>\n",
              "      <td>Protein supply quantity (g/capita/day)</td>\n",
              "      <td>g/capita/day</td>\n",
              "      <td>0.10</td>\n",
              "      <td>0.11</td>\n",
              "      <td>0.08</td>\n",
              "      <td>0.04</td>\n",
              "      <td>0.04</td>\n",
              "    </tr>\n",
              "    <tr>\n",
              "      <th>60942</th>\n",
              "      <td>181</td>\n",
              "      <td>Zimbabwe</td>\n",
              "      <td>2899</td>\n",
              "      <td>Miscellaneous</td>\n",
              "      <td>684</td>\n",
              "      <td>Fat supply quantity (g/capita/day)</td>\n",
              "      <td>g/capita/day</td>\n",
              "      <td>0.04</td>\n",
              "      <td>0.05</td>\n",
              "      <td>0.03</td>\n",
              "      <td>0.02</td>\n",
              "      <td>0.01</td>\n",
              "    </tr>\n",
              "  </tbody>\n",
              "</table>\n",
              "<p>60943 rows × 12 columns</p>\n",
              "</div>\n",
              "      <button class=\"colab-df-convert\" onclick=\"convertToInteractive('df-a6155ec1-4731-4ad6-85bb-c1fea1a6348b')\"\n",
              "              title=\"Convert this dataframe to an interactive table.\"\n",
              "              style=\"display:none;\">\n",
              "        \n",
              "  <svg xmlns=\"http://www.w3.org/2000/svg\" height=\"24px\"viewBox=\"0 0 24 24\"\n",
              "       width=\"24px\">\n",
              "    <path d=\"M0 0h24v24H0V0z\" fill=\"none\"/>\n",
              "    <path d=\"M18.56 5.44l.94 2.06.94-2.06 2.06-.94-2.06-.94-.94-2.06-.94 2.06-2.06.94zm-11 1L8.5 8.5l.94-2.06 2.06-.94-2.06-.94L8.5 2.5l-.94 2.06-2.06.94zm10 10l.94 2.06.94-2.06 2.06-.94-2.06-.94-.94-2.06-.94 2.06-2.06.94z\"/><path d=\"M17.41 7.96l-1.37-1.37c-.4-.4-.92-.59-1.43-.59-.52 0-1.04.2-1.43.59L10.3 9.45l-7.72 7.72c-.78.78-.78 2.05 0 2.83L4 21.41c.39.39.9.59 1.41.59.51 0 1.02-.2 1.41-.59l7.78-7.78 2.81-2.81c.8-.78.8-2.07 0-2.86zM5.41 20L4 18.59l7.72-7.72 1.47 1.35L5.41 20z\"/>\n",
              "  </svg>\n",
              "      </button>\n",
              "      \n",
              "  <style>\n",
              "    .colab-df-container {\n",
              "      display:flex;\n",
              "      flex-wrap:wrap;\n",
              "      gap: 12px;\n",
              "    }\n",
              "\n",
              "    .colab-df-convert {\n",
              "      background-color: #E8F0FE;\n",
              "      border: none;\n",
              "      border-radius: 50%;\n",
              "      cursor: pointer;\n",
              "      display: none;\n",
              "      fill: #1967D2;\n",
              "      height: 32px;\n",
              "      padding: 0 0 0 0;\n",
              "      width: 32px;\n",
              "    }\n",
              "\n",
              "    .colab-df-convert:hover {\n",
              "      background-color: #E2EBFA;\n",
              "      box-shadow: 0px 1px 2px rgba(60, 64, 67, 0.3), 0px 1px 3px 1px rgba(60, 64, 67, 0.15);\n",
              "      fill: #174EA6;\n",
              "    }\n",
              "\n",
              "    [theme=dark] .colab-df-convert {\n",
              "      background-color: #3B4455;\n",
              "      fill: #D2E3FC;\n",
              "    }\n",
              "\n",
              "    [theme=dark] .colab-df-convert:hover {\n",
              "      background-color: #434B5C;\n",
              "      box-shadow: 0px 1px 3px 1px rgba(0, 0, 0, 0.15);\n",
              "      filter: drop-shadow(0px 1px 2px rgba(0, 0, 0, 0.3));\n",
              "      fill: #FFFFFF;\n",
              "    }\n",
              "  </style>\n",
              "\n",
              "      <script>\n",
              "        const buttonEl =\n",
              "          document.querySelector('#df-a6155ec1-4731-4ad6-85bb-c1fea1a6348b button.colab-df-convert');\n",
              "        buttonEl.style.display =\n",
              "          google.colab.kernel.accessAllowed ? 'block' : 'none';\n",
              "\n",
              "        async function convertToInteractive(key) {\n",
              "          const element = document.querySelector('#df-a6155ec1-4731-4ad6-85bb-c1fea1a6348b');\n",
              "          const dataTable =\n",
              "            await google.colab.kernel.invokeFunction('convertToInteractive',\n",
              "                                                     [key], {});\n",
              "          if (!dataTable) return;\n",
              "\n",
              "          const docLinkHtml = 'Like what you see? Visit the ' +\n",
              "            '<a target=\"_blank\" href=https://colab.research.google.com/notebooks/data_table.ipynb>data table notebook</a>'\n",
              "            + ' to learn more about interactive tables.';\n",
              "          element.innerHTML = '';\n",
              "          dataTable['output_type'] = 'display_data';\n",
              "          await google.colab.output.renderOutput(dataTable, element);\n",
              "          const docLink = document.createElement('div');\n",
              "          docLink.innerHTML = docLinkHtml;\n",
              "          element.appendChild(docLink);\n",
              "        }\n",
              "      </script>\n",
              "    </div>\n",
              "  </div>\n",
              "  "
            ]
          },
          "metadata": {},
          "execution_count": 10
        }
      ]
    },
    {
      "cell_type": "markdown",
      "source": [
        "#to check for missing data"
      ],
      "metadata": {
        "id": "wd2F2TFKTtV7"
      }
    },
    {
      "cell_type": "code",
      "source": [
        "v1.isnull().sum()"
      ],
      "metadata": {
        "colab": {
          "base_uri": "https://localhost:8080/"
        },
        "id": "1ysBEjegT0kN",
        "outputId": "9aaa2d34-63b7-4e3c-d2a0-55a076d4e833"
      },
      "execution_count": 11,
      "outputs": [
        {
          "output_type": "execute_result",
          "data": {
            "text/plain": [
              "Area Code       0\n",
              "Area            0\n",
              "Item Code       0\n",
              "Item            0\n",
              "Element Code    0\n",
              "Element         0\n",
              "Unit            0\n",
              "Y2014           0\n",
              "Y2015           0\n",
              "Y2016           0\n",
              "Y2017           0\n",
              "Y2018           0\n",
              "dtype: int64"
            ]
          },
          "metadata": {},
          "execution_count": 11
        }
      ]
    },
    {
      "cell_type": "markdown",
      "source": [
        "#to check for columns"
      ],
      "metadata": {
        "id": "MT8hUPiOUUzd"
      }
    },
    {
      "cell_type": "code",
      "source": [
        "v2.columns"
      ],
      "metadata": {
        "colab": {
          "base_uri": "https://localhost:8080/"
        },
        "id": "EkvrPBWdUZPZ",
        "outputId": "1109a76f-6c88-41aa-e5c3-0320aa0d83cf"
      },
      "execution_count": 12,
      "outputs": [
        {
          "output_type": "execute_result",
          "data": {
            "text/plain": [
              "Index(['Area Code', 'Area', 'Item Code', 'Item', 'Element Code', 'Element',\n",
              "       'Unit', 'Y2014', 'Y2015', 'Y2016', 'Y2017', 'Y2018'],\n",
              "      dtype='object')"
            ]
          },
          "metadata": {},
          "execution_count": 12
        }
      ]
    },
    {
      "cell_type": "markdown",
      "source": [
        "#question 5"
      ],
      "metadata": {
        "id": "8Q9-FWSbKBUy"
      }
    },
    {
      "cell_type": "markdown",
      "source": [
        "#year with the highest stock variation"
      ],
      "metadata": {
        "id": "fHMWZGNXJCqV"
      }
    },
    {
      "cell_type": "code",
      "source": [
        "n1 = v2.groupby('Element').sum()\n",
        "n1"
      ],
      "metadata": {
        "colab": {
          "base_uri": "https://localhost:8080/",
          "height": 689
        },
        "id": "M7djkemVVy8j",
        "outputId": "df4c7ad9-bea2-40c7-9452-6c829d2e837f"
      },
      "execution_count": 13,
      "outputs": [
        {
          "output_type": "execute_result",
          "data": {
            "text/plain": [
              "                                        Area Code  Item Code  Element Code  \\\n",
              "Element                                                                      \n",
              "Domestic supply quantity                   708993   14197445      28068795   \n",
              "Export Quantity                            599910   11840553      26026133   \n",
              "Fat supply quantity (g/capita/day)         675050   13535000       3435732   \n",
              "Feed                                       176272    3538507       7282199   \n",
              "Food                                       663295   13285035      25406622   \n",
              "Food supply (kcal/capita/day)              674057   13511060       3329296   \n",
              "Food supply quantity (kg/capita/yr)        658446   13185401       3163725   \n",
              "Import Quantity                            688174   13795966      28834929   \n",
              "Losses                                     274353    5424803      10292107   \n",
              "Other uses (non-food)                      235554    4729749       8926728   \n",
              "Processing                                 271940    5350416      10313310   \n",
              "Production                                 526751   10450053      21388191   \n",
              "Protein supply quantity (g/capita/day)     675050   13535000       3385502   \n",
              "Residuals                                  623271   12421089      24066350   \n",
              "Seed                                       103537    2035933       4211574   \n",
              "Stock Variation                            571566   11329527      21464704   \n",
              "Total Population - Both sexes                6020     112545         22995   \n",
              "Tourist consumption                         50308    1486528       2869905   \n",
              "\n",
              "                                             Y2014       Y2015       Y2016  \\\n",
              "Element                                                                      \n",
              "Domestic supply quantity                1996716.35  2021493.55  2044842.70   \n",
              "Export Quantity                          150020.64   157614.47   151920.46   \n",
              "Fat supply quantity (g/capita/day)        10225.56    10235.74    10102.77   \n",
              "Feed                                     216927.89   225050.22   228958.65   \n",
              "Food                                    1212332.49  1232361.10  1247022.17   \n",
              "Food supply (kcal/capita/day)            454257.00   453383.00   451810.00   \n",
              "Food supply quantity (kg/capita/yr)       49650.63    49345.13    48985.28   \n",
              "Import Quantity                          274144.48   267018.46   286582.78   \n",
              "Losses                                   153223.00   155439.00   157787.00   \n",
              "Other uses (non-food)                     78718.13    66254.41    69563.68   \n",
              "Processing                               282923.00   287929.00   280631.00   \n",
              "Production                              1931287.75  1947019.39  1943537.15   \n",
              "Protein supply quantity (g/capita/day)    11836.46    11833.95    11779.69   \n",
              "Residuals                                 30149.00    30045.00    37224.00   \n",
              "Seed                                      21922.92    23976.82    23389.20   \n",
              "Stock Variation                           58749.83    34910.99    33140.12   \n",
              "Total Population - Both sexes           1031585.00  1058081.00  1085107.00   \n",
              "Tourist consumption                         416.00      349.00       89.00   \n",
              "\n",
              "                                             Y2017       Y2018  \n",
              "Element                                                         \n",
              "Domestic supply quantity                2088198.10  2161192.10  \n",
              "Export Quantity                          182338.80   181594.80  \n",
              "Fat supply quantity (g/capita/day)        10253.84    10258.69  \n",
              "Feed                                     223705.68   233489.68  \n",
              "Food                                    1258888.28  1303841.28  \n",
              "Food supply (kcal/capita/day)            454681.00   455261.00  \n",
              "Food supply quantity (kg/capita/yr)       48690.04    49056.85  \n",
              "Import Quantity                          294559.09   287997.09  \n",
              "Losses                                   160614.00   163902.00  \n",
              "Other uses (non-food)                     91645.97    91300.97  \n",
              "Processing                               292836.00   308429.00  \n",
              "Production                              2030056.89  2075072.89  \n",
              "Protein supply quantity (g/capita/day)    11842.45    11833.56  \n",
              "Residuals                                 35500.00    34864.00  \n",
              "Seed                                      24870.14    25263.14  \n",
              "Stock Variation                           54316.91    20577.91  \n",
              "Total Population - Both sexes           1112641.00  1140605.00  \n",
              "Tourist consumption                          91.00       90.00  "
            ],
            "text/html": [
              "\n",
              "  <div id=\"df-ec7c100a-a57c-43aa-80f0-a685f3fe8948\">\n",
              "    <div class=\"colab-df-container\">\n",
              "      <div>\n",
              "<style scoped>\n",
              "    .dataframe tbody tr th:only-of-type {\n",
              "        vertical-align: middle;\n",
              "    }\n",
              "\n",
              "    .dataframe tbody tr th {\n",
              "        vertical-align: top;\n",
              "    }\n",
              "\n",
              "    .dataframe thead th {\n",
              "        text-align: right;\n",
              "    }\n",
              "</style>\n",
              "<table border=\"1\" class=\"dataframe\">\n",
              "  <thead>\n",
              "    <tr style=\"text-align: right;\">\n",
              "      <th></th>\n",
              "      <th>Area Code</th>\n",
              "      <th>Item Code</th>\n",
              "      <th>Element Code</th>\n",
              "      <th>Y2014</th>\n",
              "      <th>Y2015</th>\n",
              "      <th>Y2016</th>\n",
              "      <th>Y2017</th>\n",
              "      <th>Y2018</th>\n",
              "    </tr>\n",
              "    <tr>\n",
              "      <th>Element</th>\n",
              "      <th></th>\n",
              "      <th></th>\n",
              "      <th></th>\n",
              "      <th></th>\n",
              "      <th></th>\n",
              "      <th></th>\n",
              "      <th></th>\n",
              "      <th></th>\n",
              "    </tr>\n",
              "  </thead>\n",
              "  <tbody>\n",
              "    <tr>\n",
              "      <th>Domestic supply quantity</th>\n",
              "      <td>708993</td>\n",
              "      <td>14197445</td>\n",
              "      <td>28068795</td>\n",
              "      <td>1996716.35</td>\n",
              "      <td>2021493.55</td>\n",
              "      <td>2044842.70</td>\n",
              "      <td>2088198.10</td>\n",
              "      <td>2161192.10</td>\n",
              "    </tr>\n",
              "    <tr>\n",
              "      <th>Export Quantity</th>\n",
              "      <td>599910</td>\n",
              "      <td>11840553</td>\n",
              "      <td>26026133</td>\n",
              "      <td>150020.64</td>\n",
              "      <td>157614.47</td>\n",
              "      <td>151920.46</td>\n",
              "      <td>182338.80</td>\n",
              "      <td>181594.80</td>\n",
              "    </tr>\n",
              "    <tr>\n",
              "      <th>Fat supply quantity (g/capita/day)</th>\n",
              "      <td>675050</td>\n",
              "      <td>13535000</td>\n",
              "      <td>3435732</td>\n",
              "      <td>10225.56</td>\n",
              "      <td>10235.74</td>\n",
              "      <td>10102.77</td>\n",
              "      <td>10253.84</td>\n",
              "      <td>10258.69</td>\n",
              "    </tr>\n",
              "    <tr>\n",
              "      <th>Feed</th>\n",
              "      <td>176272</td>\n",
              "      <td>3538507</td>\n",
              "      <td>7282199</td>\n",
              "      <td>216927.89</td>\n",
              "      <td>225050.22</td>\n",
              "      <td>228958.65</td>\n",
              "      <td>223705.68</td>\n",
              "      <td>233489.68</td>\n",
              "    </tr>\n",
              "    <tr>\n",
              "      <th>Food</th>\n",
              "      <td>663295</td>\n",
              "      <td>13285035</td>\n",
              "      <td>25406622</td>\n",
              "      <td>1212332.49</td>\n",
              "      <td>1232361.10</td>\n",
              "      <td>1247022.17</td>\n",
              "      <td>1258888.28</td>\n",
              "      <td>1303841.28</td>\n",
              "    </tr>\n",
              "    <tr>\n",
              "      <th>Food supply (kcal/capita/day)</th>\n",
              "      <td>674057</td>\n",
              "      <td>13511060</td>\n",
              "      <td>3329296</td>\n",
              "      <td>454257.00</td>\n",
              "      <td>453383.00</td>\n",
              "      <td>451810.00</td>\n",
              "      <td>454681.00</td>\n",
              "      <td>455261.00</td>\n",
              "    </tr>\n",
              "    <tr>\n",
              "      <th>Food supply quantity (kg/capita/yr)</th>\n",
              "      <td>658446</td>\n",
              "      <td>13185401</td>\n",
              "      <td>3163725</td>\n",
              "      <td>49650.63</td>\n",
              "      <td>49345.13</td>\n",
              "      <td>48985.28</td>\n",
              "      <td>48690.04</td>\n",
              "      <td>49056.85</td>\n",
              "    </tr>\n",
              "    <tr>\n",
              "      <th>Import Quantity</th>\n",
              "      <td>688174</td>\n",
              "      <td>13795966</td>\n",
              "      <td>28834929</td>\n",
              "      <td>274144.48</td>\n",
              "      <td>267018.46</td>\n",
              "      <td>286582.78</td>\n",
              "      <td>294559.09</td>\n",
              "      <td>287997.09</td>\n",
              "    </tr>\n",
              "    <tr>\n",
              "      <th>Losses</th>\n",
              "      <td>274353</td>\n",
              "      <td>5424803</td>\n",
              "      <td>10292107</td>\n",
              "      <td>153223.00</td>\n",
              "      <td>155439.00</td>\n",
              "      <td>157787.00</td>\n",
              "      <td>160614.00</td>\n",
              "      <td>163902.00</td>\n",
              "    </tr>\n",
              "    <tr>\n",
              "      <th>Other uses (non-food)</th>\n",
              "      <td>235554</td>\n",
              "      <td>4729749</td>\n",
              "      <td>8926728</td>\n",
              "      <td>78718.13</td>\n",
              "      <td>66254.41</td>\n",
              "      <td>69563.68</td>\n",
              "      <td>91645.97</td>\n",
              "      <td>91300.97</td>\n",
              "    </tr>\n",
              "    <tr>\n",
              "      <th>Processing</th>\n",
              "      <td>271940</td>\n",
              "      <td>5350416</td>\n",
              "      <td>10313310</td>\n",
              "      <td>282923.00</td>\n",
              "      <td>287929.00</td>\n",
              "      <td>280631.00</td>\n",
              "      <td>292836.00</td>\n",
              "      <td>308429.00</td>\n",
              "    </tr>\n",
              "    <tr>\n",
              "      <th>Production</th>\n",
              "      <td>526751</td>\n",
              "      <td>10450053</td>\n",
              "      <td>21388191</td>\n",
              "      <td>1931287.75</td>\n",
              "      <td>1947019.39</td>\n",
              "      <td>1943537.15</td>\n",
              "      <td>2030056.89</td>\n",
              "      <td>2075072.89</td>\n",
              "    </tr>\n",
              "    <tr>\n",
              "      <th>Protein supply quantity (g/capita/day)</th>\n",
              "      <td>675050</td>\n",
              "      <td>13535000</td>\n",
              "      <td>3385502</td>\n",
              "      <td>11836.46</td>\n",
              "      <td>11833.95</td>\n",
              "      <td>11779.69</td>\n",
              "      <td>11842.45</td>\n",
              "      <td>11833.56</td>\n",
              "    </tr>\n",
              "    <tr>\n",
              "      <th>Residuals</th>\n",
              "      <td>623271</td>\n",
              "      <td>12421089</td>\n",
              "      <td>24066350</td>\n",
              "      <td>30149.00</td>\n",
              "      <td>30045.00</td>\n",
              "      <td>37224.00</td>\n",
              "      <td>35500.00</td>\n",
              "      <td>34864.00</td>\n",
              "    </tr>\n",
              "    <tr>\n",
              "      <th>Seed</th>\n",
              "      <td>103537</td>\n",
              "      <td>2035933</td>\n",
              "      <td>4211574</td>\n",
              "      <td>21922.92</td>\n",
              "      <td>23976.82</td>\n",
              "      <td>23389.20</td>\n",
              "      <td>24870.14</td>\n",
              "      <td>25263.14</td>\n",
              "    </tr>\n",
              "    <tr>\n",
              "      <th>Stock Variation</th>\n",
              "      <td>571566</td>\n",
              "      <td>11329527</td>\n",
              "      <td>21464704</td>\n",
              "      <td>58749.83</td>\n",
              "      <td>34910.99</td>\n",
              "      <td>33140.12</td>\n",
              "      <td>54316.91</td>\n",
              "      <td>20577.91</td>\n",
              "    </tr>\n",
              "    <tr>\n",
              "      <th>Total Population - Both sexes</th>\n",
              "      <td>6020</td>\n",
              "      <td>112545</td>\n",
              "      <td>22995</td>\n",
              "      <td>1031585.00</td>\n",
              "      <td>1058081.00</td>\n",
              "      <td>1085107.00</td>\n",
              "      <td>1112641.00</td>\n",
              "      <td>1140605.00</td>\n",
              "    </tr>\n",
              "    <tr>\n",
              "      <th>Tourist consumption</th>\n",
              "      <td>50308</td>\n",
              "      <td>1486528</td>\n",
              "      <td>2869905</td>\n",
              "      <td>416.00</td>\n",
              "      <td>349.00</td>\n",
              "      <td>89.00</td>\n",
              "      <td>91.00</td>\n",
              "      <td>90.00</td>\n",
              "    </tr>\n",
              "  </tbody>\n",
              "</table>\n",
              "</div>\n",
              "      <button class=\"colab-df-convert\" onclick=\"convertToInteractive('df-ec7c100a-a57c-43aa-80f0-a685f3fe8948')\"\n",
              "              title=\"Convert this dataframe to an interactive table.\"\n",
              "              style=\"display:none;\">\n",
              "        \n",
              "  <svg xmlns=\"http://www.w3.org/2000/svg\" height=\"24px\"viewBox=\"0 0 24 24\"\n",
              "       width=\"24px\">\n",
              "    <path d=\"M0 0h24v24H0V0z\" fill=\"none\"/>\n",
              "    <path d=\"M18.56 5.44l.94 2.06.94-2.06 2.06-.94-2.06-.94-.94-2.06-.94 2.06-2.06.94zm-11 1L8.5 8.5l.94-2.06 2.06-.94-2.06-.94L8.5 2.5l-.94 2.06-2.06.94zm10 10l.94 2.06.94-2.06 2.06-.94-2.06-.94-.94-2.06-.94 2.06-2.06.94z\"/><path d=\"M17.41 7.96l-1.37-1.37c-.4-.4-.92-.59-1.43-.59-.52 0-1.04.2-1.43.59L10.3 9.45l-7.72 7.72c-.78.78-.78 2.05 0 2.83L4 21.41c.39.39.9.59 1.41.59.51 0 1.02-.2 1.41-.59l7.78-7.78 2.81-2.81c.8-.78.8-2.07 0-2.86zM5.41 20L4 18.59l7.72-7.72 1.47 1.35L5.41 20z\"/>\n",
              "  </svg>\n",
              "      </button>\n",
              "      \n",
              "  <style>\n",
              "    .colab-df-container {\n",
              "      display:flex;\n",
              "      flex-wrap:wrap;\n",
              "      gap: 12px;\n",
              "    }\n",
              "\n",
              "    .colab-df-convert {\n",
              "      background-color: #E8F0FE;\n",
              "      border: none;\n",
              "      border-radius: 50%;\n",
              "      cursor: pointer;\n",
              "      display: none;\n",
              "      fill: #1967D2;\n",
              "      height: 32px;\n",
              "      padding: 0 0 0 0;\n",
              "      width: 32px;\n",
              "    }\n",
              "\n",
              "    .colab-df-convert:hover {\n",
              "      background-color: #E2EBFA;\n",
              "      box-shadow: 0px 1px 2px rgba(60, 64, 67, 0.3), 0px 1px 3px 1px rgba(60, 64, 67, 0.15);\n",
              "      fill: #174EA6;\n",
              "    }\n",
              "\n",
              "    [theme=dark] .colab-df-convert {\n",
              "      background-color: #3B4455;\n",
              "      fill: #D2E3FC;\n",
              "    }\n",
              "\n",
              "    [theme=dark] .colab-df-convert:hover {\n",
              "      background-color: #434B5C;\n",
              "      box-shadow: 0px 1px 3px 1px rgba(0, 0, 0, 0.15);\n",
              "      filter: drop-shadow(0px 1px 2px rgba(0, 0, 0, 0.3));\n",
              "      fill: #FFFFFF;\n",
              "    }\n",
              "  </style>\n",
              "\n",
              "      <script>\n",
              "        const buttonEl =\n",
              "          document.querySelector('#df-ec7c100a-a57c-43aa-80f0-a685f3fe8948 button.colab-df-convert');\n",
              "        buttonEl.style.display =\n",
              "          google.colab.kernel.accessAllowed ? 'block' : 'none';\n",
              "\n",
              "        async function convertToInteractive(key) {\n",
              "          const element = document.querySelector('#df-ec7c100a-a57c-43aa-80f0-a685f3fe8948');\n",
              "          const dataTable =\n",
              "            await google.colab.kernel.invokeFunction('convertToInteractive',\n",
              "                                                     [key], {});\n",
              "          if (!dataTable) return;\n",
              "\n",
              "          const docLinkHtml = 'Like what you see? Visit the ' +\n",
              "            '<a target=\"_blank\" href=https://colab.research.google.com/notebooks/data_table.ipynb>data table notebook</a>'\n",
              "            + ' to learn more about interactive tables.';\n",
              "          element.innerHTML = '';\n",
              "          dataTable['output_type'] = 'display_data';\n",
              "          await google.colab.output.renderOutput(dataTable, element);\n",
              "          const docLink = document.createElement('div');\n",
              "          docLink.innerHTML = docLinkHtml;\n",
              "          element.appendChild(docLink);\n",
              "        }\n",
              "      </script>\n",
              "    </div>\n",
              "  </div>\n",
              "  "
            ]
          },
          "metadata": {},
          "execution_count": 13
        }
      ]
    },
    {
      "cell_type": "markdown",
      "source": [
        "#answer Y2014"
      ],
      "metadata": {
        "id": "ZGJffNgpKvJ0"
      }
    },
    {
      "cell_type": "markdown",
      "source": [
        "#question 7"
      ],
      "metadata": {
        "id": "Y5qKREzJLA9v"
      }
    },
    {
      "cell_type": "code",
      "source": [
        "d2 = v2.groupby('Area')['Y2017'].sum()\n",
        "d2"
      ],
      "metadata": {
        "colab": {
          "base_uri": "https://localhost:8080/"
        },
        "id": "qrK7IHefLIQM",
        "outputId": "8b247a4f-d794-43de-a1a4-228216127868"
      },
      "execution_count": 33,
      "outputs": [
        {
          "output_type": "execute_result",
          "data": {
            "text/plain": [
              "Area\n",
              "Algeria                         325644.27\n",
              "Angola                          229159.57\n",
              "Benin                           124771.22\n",
              "Botswana                         22101.30\n",
              "Burkina Faso                    101855.07\n",
              "Cabo Verde                       14650.74\n",
              "Cameroon                        232030.43\n",
              "Central African Republic         29937.00\n",
              "Chad                             71594.68\n",
              "Comoros                             59.84\n",
              "Congo                            41181.68\n",
              "Côte d'Ivoire                   224599.01\n",
              "Djibouti                         22729.91\n",
              "Egypt                           866379.92\n",
              "Eswatini                         54343.33\n",
              "Ethiopia                        448683.76\n",
              "Ethiopia PDR                         0.00\n",
              "Gabon                            27979.64\n",
              "Gambia                           23154.18\n",
              "Ghana                           337599.06\n",
              "Guinea                           98138.87\n",
              "Guinea-Bissau                    19102.77\n",
              "Kenya                           264660.66\n",
              "Lesotho                          21267.96\n",
              "Liberia                          29342.20\n",
              "Madagascar                      131197.73\n",
              "Malawi                          181098.71\n",
              "Mali                            149928.33\n",
              "Mauritania                      156665.46\n",
              "Mauritius                        51114.83\n",
              "Morocco                         388495.36\n",
              "Mozambique                      161407.98\n",
              "Namibia                          29874.89\n",
              "Niger                           126707.58\n",
              "Nigeria                        1483268.23\n",
              "Rwanda                           73663.69\n",
              "Sao Tome and Principe            12662.63\n",
              "Senegal                          95681.15\n",
              "Seychelles                         442.34\n",
              "Sierra Leone                     55311.33\n",
              "South Africa                    517590.54\n",
              "Sudan                           239931.92\n",
              "Sudan (former)                       0.00\n",
              "Togo                             49841.88\n",
              "Tunisia                         124167.20\n",
              "Uganda                          213950.38\n",
              "United Republic of Tanzania     322616.85\n",
              "Zambia                          103223.77\n",
              "Zimbabwe                         75919.34\n",
              "Name: Y2017, dtype: float64"
            ]
          },
          "metadata": {},
          "execution_count": 33
        }
      ]
    },
    {
      "cell_type": "markdown",
      "source": [
        "#answer nigeria"
      ],
      "metadata": {
        "id": "Yb7ZKqwjMNwI"
      }
    },
    {
      "cell_type": "markdown",
      "source": [
        "#question 9"
      ],
      "metadata": {
        "id": "pQQY8wbDMeQB"
      }
    },
    {
      "cell_type": "code",
      "source": [
        "d3 = v2.groupby('Area')['Y2017'].sum().sort_values(ascending = true)\n",
        "d3"
      ],
      "metadata": {
        "colab": {
          "base_uri": "https://localhost:8080/",
          "height": 184
        },
        "id": "XCt8YzXcMhOe",
        "outputId": "23cbed8d-e5a4-481b-9625-d86408825144"
      },
      "execution_count": 34,
      "outputs": [
        {
          "output_type": "error",
          "ename": "NameError",
          "evalue": "ignored",
          "traceback": [
            "\u001b[0;31m---------------------------------------------------------------------------\u001b[0m",
            "\u001b[0;31mNameError\u001b[0m                                 Traceback (most recent call last)",
            "\u001b[0;32m<ipython-input-34-35683287c257>\u001b[0m in \u001b[0;36m<module>\u001b[0;34m\u001b[0m\n\u001b[0;32m----> 1\u001b[0;31m \u001b[0md3\u001b[0m \u001b[0;34m=\u001b[0m \u001b[0mv2\u001b[0m\u001b[0;34m.\u001b[0m\u001b[0mgroupby\u001b[0m\u001b[0;34m(\u001b[0m\u001b[0;34m'Area'\u001b[0m\u001b[0;34m)\u001b[0m\u001b[0;34m[\u001b[0m\u001b[0;34m'Y2017'\u001b[0m\u001b[0;34m]\u001b[0m\u001b[0;34m.\u001b[0m\u001b[0msum\u001b[0m\u001b[0;34m(\u001b[0m\u001b[0;34m)\u001b[0m\u001b[0;34m.\u001b[0m\u001b[0msort_values\u001b[0m\u001b[0;34m(\u001b[0m\u001b[0mascending\u001b[0m \u001b[0;34m=\u001b[0m \u001b[0mtrue\u001b[0m\u001b[0;34m)\u001b[0m\u001b[0;34m\u001b[0m\u001b[0;34m\u001b[0m\u001b[0m\n\u001b[0m\u001b[1;32m      2\u001b[0m \u001b[0md3\u001b[0m\u001b[0;34m\u001b[0m\u001b[0;34m\u001b[0m\u001b[0m\n",
            "\u001b[0;31mNameError\u001b[0m: name 'true' is not defined"
          ]
        }
      ]
    },
    {
      "cell_type": "markdown",
      "source": [
        "#question 10"
      ],
      "metadata": {
        "id": "xUp2Afa2OBb2"
      }
    },
    {
      "cell_type": "code",
      "source": [
        "d4 = v2.groupby('Madagascar')['Y2015'].sum().sort_values\n",
        "d4"
      ],
      "metadata": {
        "colab": {
          "base_uri": "https://localhost:8080/",
          "height": 347
        },
        "id": "YHAduN6wOIWo",
        "outputId": "5f81f051-1fa4-4120-ae44-721e6c7a0447"
      },
      "execution_count": 38,
      "outputs": [
        {
          "output_type": "error",
          "ename": "KeyError",
          "evalue": "ignored",
          "traceback": [
            "\u001b[0;31m---------------------------------------------------------------------------\u001b[0m",
            "\u001b[0;31mKeyError\u001b[0m                                  Traceback (most recent call last)",
            "\u001b[0;32m<ipython-input-38-31970c3dbf9a>\u001b[0m in \u001b[0;36m<module>\u001b[0;34m\u001b[0m\n\u001b[0;32m----> 1\u001b[0;31m \u001b[0md4\u001b[0m \u001b[0;34m=\u001b[0m \u001b[0mv2\u001b[0m\u001b[0;34m.\u001b[0m\u001b[0mgroupby\u001b[0m\u001b[0;34m(\u001b[0m\u001b[0;34m'Madagascar'\u001b[0m\u001b[0;34m)\u001b[0m\u001b[0;34m[\u001b[0m\u001b[0;34m'Y2015'\u001b[0m\u001b[0;34m]\u001b[0m\u001b[0;34m.\u001b[0m\u001b[0msum\u001b[0m\u001b[0;34m(\u001b[0m\u001b[0;34m)\u001b[0m\u001b[0;34m.\u001b[0m\u001b[0msort_values\u001b[0m\u001b[0;34m\u001b[0m\u001b[0;34m\u001b[0m\u001b[0m\n\u001b[0m\u001b[1;32m      2\u001b[0m \u001b[0md4\u001b[0m\u001b[0;34m\u001b[0m\u001b[0;34m\u001b[0m\u001b[0m\n",
            "\u001b[0;32m/usr/local/lib/python3.7/dist-packages/pandas/core/frame.py\u001b[0m in \u001b[0;36mgroupby\u001b[0;34m(self, by, axis, level, as_index, sort, group_keys, squeeze, observed, dropna)\u001b[0m\n\u001b[1;32m   7639\u001b[0m             \u001b[0msqueeze\u001b[0m\u001b[0;34m=\u001b[0m\u001b[0msqueeze\u001b[0m\u001b[0;34m,\u001b[0m  \u001b[0;31m# type: ignore[arg-type]\u001b[0m\u001b[0;34m\u001b[0m\u001b[0;34m\u001b[0m\u001b[0m\n\u001b[1;32m   7640\u001b[0m             \u001b[0mobserved\u001b[0m\u001b[0;34m=\u001b[0m\u001b[0mobserved\u001b[0m\u001b[0;34m,\u001b[0m\u001b[0;34m\u001b[0m\u001b[0;34m\u001b[0m\u001b[0m\n\u001b[0;32m-> 7641\u001b[0;31m             \u001b[0mdropna\u001b[0m\u001b[0;34m=\u001b[0m\u001b[0mdropna\u001b[0m\u001b[0;34m,\u001b[0m\u001b[0;34m\u001b[0m\u001b[0;34m\u001b[0m\u001b[0m\n\u001b[0m\u001b[1;32m   7642\u001b[0m         )\n\u001b[1;32m   7643\u001b[0m \u001b[0;34m\u001b[0m\u001b[0m\n",
            "\u001b[0;32m/usr/local/lib/python3.7/dist-packages/pandas/core/groupby/groupby.py\u001b[0m in \u001b[0;36m__init__\u001b[0;34m(self, obj, keys, axis, level, grouper, exclusions, selection, as_index, sort, group_keys, squeeze, observed, mutated, dropna)\u001b[0m\n\u001b[1;32m    895\u001b[0m                 \u001b[0mobserved\u001b[0m\u001b[0;34m=\u001b[0m\u001b[0mobserved\u001b[0m\u001b[0;34m,\u001b[0m\u001b[0;34m\u001b[0m\u001b[0;34m\u001b[0m\u001b[0m\n\u001b[1;32m    896\u001b[0m                 \u001b[0mmutated\u001b[0m\u001b[0;34m=\u001b[0m\u001b[0mself\u001b[0m\u001b[0;34m.\u001b[0m\u001b[0mmutated\u001b[0m\u001b[0;34m,\u001b[0m\u001b[0;34m\u001b[0m\u001b[0;34m\u001b[0m\u001b[0m\n\u001b[0;32m--> 897\u001b[0;31m                 \u001b[0mdropna\u001b[0m\u001b[0;34m=\u001b[0m\u001b[0mself\u001b[0m\u001b[0;34m.\u001b[0m\u001b[0mdropna\u001b[0m\u001b[0;34m,\u001b[0m\u001b[0;34m\u001b[0m\u001b[0;34m\u001b[0m\u001b[0m\n\u001b[0m\u001b[1;32m    898\u001b[0m             )\n\u001b[1;32m    899\u001b[0m \u001b[0;34m\u001b[0m\u001b[0m\n",
            "\u001b[0;32m/usr/local/lib/python3.7/dist-packages/pandas/core/groupby/grouper.py\u001b[0m in \u001b[0;36mget_grouper\u001b[0;34m(obj, key, axis, level, sort, observed, mutated, validate, dropna)\u001b[0m\n\u001b[1;32m    860\u001b[0m                 \u001b[0min_axis\u001b[0m\u001b[0;34m,\u001b[0m \u001b[0mlevel\u001b[0m\u001b[0;34m,\u001b[0m \u001b[0mgpr\u001b[0m \u001b[0;34m=\u001b[0m \u001b[0;32mFalse\u001b[0m\u001b[0;34m,\u001b[0m \u001b[0mgpr\u001b[0m\u001b[0;34m,\u001b[0m \u001b[0;32mNone\u001b[0m\u001b[0;34m\u001b[0m\u001b[0;34m\u001b[0m\u001b[0m\n\u001b[1;32m    861\u001b[0m             \u001b[0;32melse\u001b[0m\u001b[0;34m:\u001b[0m\u001b[0;34m\u001b[0m\u001b[0;34m\u001b[0m\u001b[0m\n\u001b[0;32m--> 862\u001b[0;31m                 \u001b[0;32mraise\u001b[0m \u001b[0mKeyError\u001b[0m\u001b[0;34m(\u001b[0m\u001b[0mgpr\u001b[0m\u001b[0;34m)\u001b[0m\u001b[0;34m\u001b[0m\u001b[0;34m\u001b[0m\u001b[0m\n\u001b[0m\u001b[1;32m    863\u001b[0m         \u001b[0;32melif\u001b[0m \u001b[0misinstance\u001b[0m\u001b[0;34m(\u001b[0m\u001b[0mgpr\u001b[0m\u001b[0;34m,\u001b[0m \u001b[0mGrouper\u001b[0m\u001b[0;34m)\u001b[0m \u001b[0;32mand\u001b[0m \u001b[0mgpr\u001b[0m\u001b[0;34m.\u001b[0m\u001b[0mkey\u001b[0m \u001b[0;32mis\u001b[0m \u001b[0;32mnot\u001b[0m \u001b[0;32mNone\u001b[0m\u001b[0;34m:\u001b[0m\u001b[0;34m\u001b[0m\u001b[0;34m\u001b[0m\u001b[0m\n\u001b[1;32m    864\u001b[0m             \u001b[0;31m# Add key to exclusions\u001b[0m\u001b[0;34m\u001b[0m\u001b[0;34m\u001b[0m\u001b[0;34m\u001b[0m\u001b[0m\n",
            "\u001b[0;31mKeyError\u001b[0m: 'Madagascar'"
          ]
        }
      ]
    },
    {
      "cell_type": "code",
      "source": [
        "v2['Y2015'].describe().round(3)"
      ],
      "metadata": {
        "colab": {
          "base_uri": "https://localhost:8080/"
        },
        "id": "UrLfXGxJXgNK",
        "outputId": "5b865385-5072-4cd6-a5cf-f73c62a8e1dd"
      },
      "execution_count": 14,
      "outputs": [
        {
          "output_type": "execute_result",
          "data": {
            "text/plain": [
              "count     59395.000\n",
              "mean        135.236\n",
              "std        1603.404\n",
              "min       -3161.000\n",
              "25%           0.000\n",
              "50%           0.080\n",
              "75%           8.460\n",
              "max      181137.000\n",
              "Name: Y2015, dtype: float64"
            ]
          },
          "metadata": {},
          "execution_count": 14
        }
      ]
    },
    {
      "cell_type": "markdown",
      "source": [
        "#135.236"
      ],
      "metadata": {
        "id": "I8a2DYh0Yg94"
      }
    },
    {
      "cell_type": "markdown",
      "source": [
        "#Total number and percentage of missing data to 2 decimal place"
      ],
      "metadata": {
        "id": "J1nA-kO2Yvlb"
      }
    },
    {
      "cell_type": "code",
      "source": [
        "v2['Y2016'].isnull().sum()"
      ],
      "metadata": {
        "colab": {
          "base_uri": "https://localhost:8080/"
        },
        "id": "sxjSEg6oZJGm",
        "outputId": "223ae52e-95b7-44a6-c0e0-2b778385747f"
      },
      "execution_count": 15,
      "outputs": [
        {
          "output_type": "execute_result",
          "data": {
            "text/plain": [
              "1535"
            ]
          },
          "metadata": {},
          "execution_count": 15
        }
      ]
    },
    {
      "cell_type": "code",
      "source": [
        "t2 = (v2 ['Y2016'].isnull().sum() * 100 / len(v2)).round(2)\n",
        "t2\n"
      ],
      "metadata": {
        "colab": {
          "base_uri": "https://localhost:8080/"
        },
        "id": "n09drVHlZYln",
        "outputId": "a2e08325-ee92-423c-b73b-057cc1045c8e"
      },
      "execution_count": 16,
      "outputs": [
        {
          "output_type": "execute_result",
          "data": {
            "text/plain": [
              "2.52"
            ]
          },
          "metadata": {},
          "execution_count": 16
        }
      ]
    },
    {
      "cell_type": "markdown",
      "source": [
        "#which year as the highest corelationn with element code"
      ],
      "metadata": {
        "id": "iyt6EGI5aejA"
      }
    },
    {
      "cell_type": "code",
      "source": [
        "sns.heatmap(data = v2.corr())"
      ],
      "metadata": {
        "colab": {
          "base_uri": "https://localhost:8080/",
          "height": 346
        },
        "id": "LyyzngirapIv",
        "outputId": "097578cd-dc4e-4c4f-96da-ddf115eb4a4c"
      },
      "execution_count": 17,
      "outputs": [
        {
          "output_type": "execute_result",
          "data": {
            "text/plain": [
              "<matplotlib.axes._subplots.AxesSubplot at 0x7fa8ba711a50>"
            ]
          },
          "metadata": {},
          "execution_count": 17
        },
        {
          "output_type": "display_data",
          "data": {
            "text/plain": [
              "<Figure size 432x288 with 2 Axes>"
            ],
            "image/png": "[encoded data removed]"
          },
          "metadata": {
            "needs_background": "light"
          }
        }
      ]
    },
    {
      "cell_type": "code",
      "source": [
        "print(v2.corr())"
      ],
      "metadata": {
        "colab": {
          "base_uri": "https://localhost:8080/"
        },
        "id": "nx2fFy11gsDi",
        "outputId": "816c6e9a-28fe-42f9-eb5e-6421d4139435"
      },
      "execution_count": 18,
      "outputs": [
        {
          "output_type": "stream",
          "name": "stdout",
          "text": [
            "              Area Code  Item Code  Element Code     Y2014     Y2015  \\\n",
            "Area Code      1.000000  -0.005159     -0.000209  0.006164  0.005472   \n",
            "Item Code     -0.005159   1.000000     -0.024683  0.021722  0.020857   \n",
            "Element Code  -0.000209  -0.024683      1.000000  0.024457  0.023889   \n",
            "Y2014          0.006164   0.021722      0.024457  1.000000  0.994647   \n",
            "Y2015          0.005472   0.020857      0.023889  0.994647  1.000000   \n",
            "Y2016          0.005247   0.020109      0.023444  0.996081  0.995739   \n",
            "Y2017          0.005006   0.021494      0.024254  0.995230  0.988048   \n",
            "Y2018          0.005665   0.021314      0.024279  0.994872  0.988208   \n",
            "\n",
            "                 Y2016     Y2017     Y2018  \n",
            "Area Code     0.005247  0.005006  0.005665  \n",
            "Item Code     0.020109  0.021494  0.021314  \n",
            "Element Code  0.023444  0.024254  0.024279  \n",
            "Y2014         0.996081  0.995230  0.994872  \n",
            "Y2015         0.995739  0.988048  0.988208  \n",
            "Y2016         1.000000  0.992785  0.992757  \n",
            "Y2017         0.992785  1.000000  0.998103  \n",
            "Y2018         0.992757  0.998103  1.000000  \n"
          ]
        }
      ]
    },
    {
      "cell_type": "code",
      "source": [
        "cor2014 = v2['Element Code'].corr(v2['Y2014'])\n",
        "cor2014"
      ],
      "metadata": {
        "colab": {
          "base_uri": "https://localhost:8080/"
        },
        "id": "k3vE_OHyg2VN",
        "outputId": "b651e435-1242-4cdb-be02-0d493ec2c29d"
      },
      "execution_count": 19,
      "outputs": [
        {
          "output_type": "execute_result",
          "data": {
            "text/plain": [
              "0.024456819495221754"
            ]
          },
          "metadata": {},
          "execution_count": 19
        }
      ]
    },
    {
      "cell_type": "code",
      "source": [
        "cor2015 = v2['Element Code'].corr(v2['Y2015'])\n",
        "cor2015"
      ],
      "metadata": {
        "colab": {
          "base_uri": "https://localhost:8080/"
        },
        "id": "oW8XW_BAhiAD",
        "outputId": "f6e129a6-8084-4c70-c913-3dd93f72ba20"
      },
      "execution_count": 20,
      "outputs": [
        {
          "output_type": "execute_result",
          "data": {
            "text/plain": [
              "0.023889199301639956"
            ]
          },
          "metadata": {},
          "execution_count": 20
        }
      ]
    },
    {
      "cell_type": "code",
      "source": [
        "cor2016 = v2['Element Code'].corr(v2['Y2016'])\n",
        "cor2016"
      ],
      "metadata": {
        "colab": {
          "base_uri": "https://localhost:8080/"
        },
        "id": "11RIhdbdh6ja",
        "outputId": "8ad8a22b-3fac-4bb1-ed03-d63dcf2a2aaa"
      },
      "execution_count": 21,
      "outputs": [
        {
          "output_type": "execute_result",
          "data": {
            "text/plain": [
              "0.023443997584961424"
            ]
          },
          "metadata": {},
          "execution_count": 21
        }
      ]
    },
    {
      "cell_type": "code",
      "source": [
        "cor2017 = v2['Element Code'].corr(v2['Y2017'])\n",
        "cor2017"
      ],
      "metadata": {
        "colab": {
          "base_uri": "https://localhost:8080/"
        },
        "id": "Zi55cgAmm5Xq",
        "outputId": "26e9d417-09cc-4fb8-ed05-471cb7b61041"
      },
      "execution_count": 22,
      "outputs": [
        {
          "output_type": "execute_result",
          "data": {
            "text/plain": [
              "0.02425400776004575"
            ]
          },
          "metadata": {},
          "execution_count": 22
        }
      ]
    },
    {
      "cell_type": "code",
      "source": [
        "cor2018 = v2['Element Code'].corr(v2['Y2018'])\n",
        "cor2018"
      ],
      "metadata": {
        "colab": {
          "base_uri": "https://localhost:8080/"
        },
        "id": "uEl0dhpRnDhk",
        "outputId": "2ee83e6b-c347-4b76-cb5f-ca25a5fa4cbb"
      },
      "execution_count": 23,
      "outputs": [
        {
          "output_type": "execute_result",
          "data": {
            "text/plain": [
              "0.02427857195351955"
            ]
          },
          "metadata": {},
          "execution_count": 23
        }
      ]
    },
    {
      "cell_type": "markdown",
      "source": [
        "#which has the highest sum of import quantity"
      ],
      "metadata": {
        "id": "gMKK7_Bkaxym"
      }
    },
    {
      "cell_type": "code",
      "source": [
        "y3 = v2.groupby('Element')[['Y2014','Y2015','Y2016','Y2017','Y2018']].sum()\n",
        "y3"
      ],
      "metadata": {
        "colab": {
          "base_uri": "https://localhost:8080/",
          "height": 645
        },
        "id": "PL3IEsmOa5wk",
        "outputId": "623279f1-b33c-417b-dbb3-fe38b5e53638"
      },
      "execution_count": 24,
      "outputs": [
        {
          "output_type": "execute_result",
          "data": {
            "text/plain": [
              "                                             Y2014       Y2015       Y2016  \\\n",
              "Element                                                                      \n",
              "Domestic supply quantity                1996716.35  2021493.55  2044842.70   \n",
              "Export Quantity                          150020.64   157614.47   151920.46   \n",
              "Fat supply quantity (g/capita/day)        10225.56    10235.74    10102.77   \n",
              "Feed                                     216927.89   225050.22   228958.65   \n",
              "Food                                    1212332.49  1232361.10  1247022.17   \n",
              "Food supply (kcal/capita/day)            454257.00   453383.00   451810.00   \n",
              "Food supply quantity (kg/capita/yr)       49650.63    49345.13    48985.28   \n",
              "Import Quantity                          274144.48   267018.46   286582.78   \n",
              "Losses                                   153223.00   155439.00   157787.00   \n",
              "Other uses (non-food)                     78718.13    66254.41    69563.68   \n",
              "Processing                               282923.00   287929.00   280631.00   \n",
              "Production                              1931287.75  1947019.39  1943537.15   \n",
              "Protein supply quantity (g/capita/day)    11836.46    11833.95    11779.69   \n",
              "Residuals                                 30149.00    30045.00    37224.00   \n",
              "Seed                                      21922.92    23976.82    23389.20   \n",
              "Stock Variation                           58749.83    34910.99    33140.12   \n",
              "Total Population - Both sexes           1031585.00  1058081.00  1085107.00   \n",
              "Tourist consumption                         416.00      349.00       89.00   \n",
              "\n",
              "                                             Y2017       Y2018  \n",
              "Element                                                         \n",
              "Domestic supply quantity                2088198.10  2161192.10  \n",
              "Export Quantity                          182338.80   181594.80  \n",
              "Fat supply quantity (g/capita/day)        10253.84    10258.69  \n",
              "Feed                                     223705.68   233489.68  \n",
              "Food                                    1258888.28  1303841.28  \n",
              "Food supply (kcal/capita/day)            454681.00   455261.00  \n",
              "Food supply quantity (kg/capita/yr)       48690.04    49056.85  \n",
              "Import Quantity                          294559.09   287997.09  \n",
              "Losses                                   160614.00   163902.00  \n",
              "Other uses (non-food)                     91645.97    91300.97  \n",
              "Processing                               292836.00   308429.00  \n",
              "Production                              2030056.89  2075072.89  \n",
              "Protein supply quantity (g/capita/day)    11842.45    11833.56  \n",
              "Residuals                                 35500.00    34864.00  \n",
              "Seed                                      24870.14    25263.14  \n",
              "Stock Variation                           54316.91    20577.91  \n",
              "Total Population - Both sexes           1112641.00  1140605.00  \n",
              "Tourist consumption                          91.00       90.00  "
            ],
            "text/html": [
              "\n",
              "  <div id=\"df-87943aa8-b77d-485a-ab53-7857a93072b0\">\n",
              "    <div class=\"colab-df-container\">\n",
              "      <div>\n",
              "<style scoped>\n",
              "    .dataframe tbody tr th:only-of-type {\n",
              "        vertical-align: middle;\n",
              "    }\n",
              "\n",
              "    .dataframe tbody tr th {\n",
              "        vertical-align: top;\n",
              "    }\n",
              "\n",
              "    .dataframe thead th {\n",
              "        text-align: right;\n",
              "    }\n",
              "</style>\n",
              "<table border=\"1\" class=\"dataframe\">\n",
              "  <thead>\n",
              "    <tr style=\"text-align: right;\">\n",
              "      <th></th>\n",
              "      <th>Y2014</th>\n",
              "      <th>Y2015</th>\n",
              "      <th>Y2016</th>\n",
              "      <th>Y2017</th>\n",
              "      <th>Y2018</th>\n",
              "    </tr>\n",
              "    <tr>\n",
              "      <th>Element</th>\n",
              "      <th></th>\n",
              "      <th></th>\n",
              "      <th></th>\n",
              "      <th></th>\n",
              "      <th></th>\n",
              "    </tr>\n",
              "  </thead>\n",
              "  <tbody>\n",
              "    <tr>\n",
              "      <th>Domestic supply quantity</th>\n",
              "      <td>1996716.35</td>\n",
              "      <td>2021493.55</td>\n",
              "      <td>2044842.70</td>\n",
              "      <td>2088198.10</td>\n",
              "      <td>2161192.10</td>\n",
              "    </tr>\n",
              "    <tr>\n",
              "      <th>Export Quantity</th>\n",
              "      <td>150020.64</td>\n",
              "      <td>157614.47</td>\n",
              "      <td>151920.46</td>\n",
              "      <td>182338.80</td>\n",
              "      <td>181594.80</td>\n",
              "    </tr>\n",
              "    <tr>\n",
              "      <th>Fat supply quantity (g/capita/day)</th>\n",
              "      <td>10225.56</td>\n",
              "      <td>10235.74</td>\n",
              "      <td>10102.77</td>\n",
              "      <td>10253.84</td>\n",
              "      <td>10258.69</td>\n",
              "    </tr>\n",
              "    <tr>\n",
              "      <th>Feed</th>\n",
              "      <td>216927.89</td>\n",
              "      <td>225050.22</td>\n",
              "      <td>228958.65</td>\n",
              "      <td>223705.68</td>\n",
              "      <td>233489.68</td>\n",
              "    </tr>\n",
              "    <tr>\n",
              "      <th>Food</th>\n",
              "      <td>1212332.49</td>\n",
              "      <td>1232361.10</td>\n",
              "      <td>1247022.17</td>\n",
              "      <td>1258888.28</td>\n",
              "      <td>1303841.28</td>\n",
              "    </tr>\n",
              "    <tr>\n",
              "      <th>Food supply (kcal/capita/day)</th>\n",
              "      <td>454257.00</td>\n",
              "      <td>453383.00</td>\n",
              "      <td>451810.00</td>\n",
              "      <td>454681.00</td>\n",
              "      <td>455261.00</td>\n",
              "    </tr>\n",
              "    <tr>\n",
              "      <th>Food supply quantity (kg/capita/yr)</th>\n",
              "      <td>49650.63</td>\n",
              "      <td>49345.13</td>\n",
              "      <td>48985.28</td>\n",
              "      <td>48690.04</td>\n",
              "      <td>49056.85</td>\n",
              "    </tr>\n",
              "    <tr>\n",
              "      <th>Import Quantity</th>\n",
              "      <td>274144.48</td>\n",
              "      <td>267018.46</td>\n",
              "      <td>286582.78</td>\n",
              "      <td>294559.09</td>\n",
              "      <td>287997.09</td>\n",
              "    </tr>\n",
              "    <tr>\n",
              "      <th>Losses</th>\n",
              "      <td>153223.00</td>\n",
              "      <td>155439.00</td>\n",
              "      <td>157787.00</td>\n",
              "      <td>160614.00</td>\n",
              "      <td>163902.00</td>\n",
              "    </tr>\n",
              "    <tr>\n",
              "      <th>Other uses (non-food)</th>\n",
              "      <td>78718.13</td>\n",
              "      <td>66254.41</td>\n",
              "      <td>69563.68</td>\n",
              "      <td>91645.97</td>\n",
              "      <td>91300.97</td>\n",
              "    </tr>\n",
              "    <tr>\n",
              "      <th>Processing</th>\n",
              "      <td>282923.00</td>\n",
              "      <td>287929.00</td>\n",
              "      <td>280631.00</td>\n",
              "      <td>292836.00</td>\n",
              "      <td>308429.00</td>\n",
              "    </tr>\n",
              "    <tr>\n",
              "      <th>Production</th>\n",
              "      <td>1931287.75</td>\n",
              "      <td>1947019.39</td>\n",
              "      <td>1943537.15</td>\n",
              "      <td>2030056.89</td>\n",
              "      <td>2075072.89</td>\n",
              "    </tr>\n",
              "    <tr>\n",
              "      <th>Protein supply quantity (g/capita/day)</th>\n",
              "      <td>11836.46</td>\n",
              "      <td>11833.95</td>\n",
              "      <td>11779.69</td>\n",
              "      <td>11842.45</td>\n",
              "      <td>11833.56</td>\n",
              "    </tr>\n",
              "    <tr>\n",
              "      <th>Residuals</th>\n",
              "      <td>30149.00</td>\n",
              "      <td>30045.00</td>\n",
              "      <td>37224.00</td>\n",
              "      <td>35500.00</td>\n",
              "      <td>34864.00</td>\n",
              "    </tr>\n",
              "    <tr>\n",
              "      <th>Seed</th>\n",
              "      <td>21922.92</td>\n",
              "      <td>23976.82</td>\n",
              "      <td>23389.20</td>\n",
              "      <td>24870.14</td>\n",
              "      <td>25263.14</td>\n",
              "    </tr>\n",
              "    <tr>\n",
              "      <th>Stock Variation</th>\n",
              "      <td>58749.83</td>\n",
              "      <td>34910.99</td>\n",
              "      <td>33140.12</td>\n",
              "      <td>54316.91</td>\n",
              "      <td>20577.91</td>\n",
              "    </tr>\n",
              "    <tr>\n",
              "      <th>Total Population - Both sexes</th>\n",
              "      <td>1031585.00</td>\n",
              "      <td>1058081.00</td>\n",
              "      <td>1085107.00</td>\n",
              "      <td>1112641.00</td>\n",
              "      <td>1140605.00</td>\n",
              "    </tr>\n",
              "    <tr>\n",
              "      <th>Tourist consumption</th>\n",
              "      <td>416.00</td>\n",
              "      <td>349.00</td>\n",
              "      <td>89.00</td>\n",
              "      <td>91.00</td>\n",
              "      <td>90.00</td>\n",
              "    </tr>\n",
              "  </tbody>\n",
              "</table>\n",
              "</div>\n",
              "      <button class=\"colab-df-convert\" onclick=\"convertToInteractive('df-87943aa8-b77d-485a-ab53-7857a93072b0')\"\n",
              "              title=\"Convert this dataframe to an interactive table.\"\n",
              "              style=\"display:none;\">\n",
              "        \n",
              "  <svg xmlns=\"http://www.w3.org/2000/svg\" height=\"24px\"viewBox=\"0 0 24 24\"\n",
              "       width=\"24px\">\n",
              "    <path d=\"M0 0h24v24H0V0z\" fill=\"none\"/>\n",
              "    <path d=\"M18.56 5.44l.94 2.06.94-2.06 2.06-.94-2.06-.94-.94-2.06-.94 2.06-2.06.94zm-11 1L8.5 8.5l.94-2.06 2.06-.94-2.06-.94L8.5 2.5l-.94 2.06-2.06.94zm10 10l.94 2.06.94-2.06 2.06-.94-2.06-.94-.94-2.06-.94 2.06-2.06.94z\"/><path d=\"M17.41 7.96l-1.37-1.37c-.4-.4-.92-.59-1.43-.59-.52 0-1.04.2-1.43.59L10.3 9.45l-7.72 7.72c-.78.78-.78 2.05 0 2.83L4 21.41c.39.39.9.59 1.41.59.51 0 1.02-.2 1.41-.59l7.78-7.78 2.81-2.81c.8-.78.8-2.07 0-2.86zM5.41 20L4 18.59l7.72-7.72 1.47 1.35L5.41 20z\"/>\n",
              "  </svg>\n",
              "      </button>\n",
              "      \n",
              "  <style>\n",
              "    .colab-df-container {\n",
              "      display:flex;\n",
              "      flex-wrap:wrap;\n",
              "      gap: 12px;\n",
              "    }\n",
              "\n",
              "    .colab-df-convert {\n",
              "      background-color: #E8F0FE;\n",
              "      border: none;\n",
              "      border-radius: 50%;\n",
              "      cursor: pointer;\n",
              "      display: none;\n",
              "      fill: #1967D2;\n",
              "      height: 32px;\n",
              "      padding: 0 0 0 0;\n",
              "      width: 32px;\n",
              "    }\n",
              "\n",
              "    .colab-df-convert:hover {\n",
              "      background-color: #E2EBFA;\n",
              "      box-shadow: 0px 1px 2px rgba(60, 64, 67, 0.3), 0px 1px 3px 1px rgba(60, 64, 67, 0.15);\n",
              "      fill: #174EA6;\n",
              "    }\n",
              "\n",
              "    [theme=dark] .colab-df-convert {\n",
              "      background-color: #3B4455;\n",
              "      fill: #D2E3FC;\n",
              "    }\n",
              "\n",
              "    [theme=dark] .colab-df-convert:hover {\n",
              "      background-color: #434B5C;\n",
              "      box-shadow: 0px 1px 3px 1px rgba(0, 0, 0, 0.15);\n",
              "      filter: drop-shadow(0px 1px 2px rgba(0, 0, 0, 0.3));\n",
              "      fill: #FFFFFF;\n",
              "    }\n",
              "  </style>\n",
              "\n",
              "      <script>\n",
              "        const buttonEl =\n",
              "          document.querySelector('#df-87943aa8-b77d-485a-ab53-7857a93072b0 button.colab-df-convert');\n",
              "        buttonEl.style.display =\n",
              "          google.colab.kernel.accessAllowed ? 'block' : 'none';\n",
              "\n",
              "        async function convertToInteractive(key) {\n",
              "          const element = document.querySelector('#df-87943aa8-b77d-485a-ab53-7857a93072b0');\n",
              "          const dataTable =\n",
              "            await google.colab.kernel.invokeFunction('convertToInteractive',\n",
              "                                                     [key], {});\n",
              "          if (!dataTable) return;\n",
              "\n",
              "          const docLinkHtml = 'Like what you see? Visit the ' +\n",
              "            '<a target=\"_blank\" href=https://colab.research.google.com/notebooks/data_table.ipynb>data table notebook</a>'\n",
              "            + ' to learn more about interactive tables.';\n",
              "          element.innerHTML = '';\n",
              "          dataTable['output_type'] = 'display_data';\n",
              "          await google.colab.output.renderOutput(dataTable, element);\n",
              "          const docLink = document.createElement('div');\n",
              "          docLink.innerHTML = docLinkHtml;\n",
              "          element.appendChild(docLink);\n",
              "        }\n",
              "      </script>\n",
              "    </div>\n",
              "  </div>\n",
              "  "
            ]
          },
          "metadata": {},
          "execution_count": 24
        }
      ]
    },
    {
      "cell_type": "markdown",
      "source": [
        "#Y2017"
      ],
      "metadata": {
        "id": "n2pqq81eSIwH"
      }
    },
    {
      "cell_type": "markdown",
      "source": [
        "#total no of the sum of production in 2014"
      ],
      "metadata": {
        "id": "Yb1rnJKnd2Zd"
      }
    },
    {
      "cell_type": "code",
      "source": [
        "t3 = v2.groupby('Element')['Y2014'].sum()\n",
        "t3"
      ],
      "metadata": {
        "colab": {
          "base_uri": "https://localhost:8080/"
        },
        "id": "YmNZDpH5d90K",
        "outputId": "b2950210-c926-4e8c-ecee-704574b63ba4"
      },
      "execution_count": 25,
      "outputs": [
        {
          "output_type": "execute_result",
          "data": {
            "text/plain": [
              "Element\n",
              "Domestic supply quantity                  1996716.35\n",
              "Export Quantity                            150020.64\n",
              "Fat supply quantity (g/capita/day)          10225.56\n",
              "Feed                                       216927.89\n",
              "Food                                      1212332.49\n",
              "Food supply (kcal/capita/day)              454257.00\n",
              "Food supply quantity (kg/capita/yr)         49650.63\n",
              "Import Quantity                            274144.48\n",
              "Losses                                     153223.00\n",
              "Other uses (non-food)                       78718.13\n",
              "Processing                                 282923.00\n",
              "Production                                1931287.75\n",
              "Protein supply quantity (g/capita/day)      11836.46\n",
              "Residuals                                   30149.00\n",
              "Seed                                        21922.92\n",
              "Stock Variation                             58749.83\n",
              "Total Population - Both sexes             1031585.00\n",
              "Tourist consumption                           416.00\n",
              "Name: Y2014, dtype: float64"
            ]
          },
          "metadata": {},
          "execution_count": 25
        }
      ]
    },
    {
      "cell_type": "markdown",
      "source": [
        "#domestic supply quantity 1996716.35"
      ],
      "metadata": {
        "id": "njAD3GBDSiK1"
      }
    },
    {
      "cell_type": "markdown",
      "source": [
        "#which of the element has the highest sum in 2018"
      ],
      "metadata": {
        "id": "uFV0lkZdewHB"
      }
    },
    {
      "cell_type": "code",
      "source": [
        "t4 = v2.groupby('Element')['Y2018'].sum().sort_values(ascending =False)\n",
        "t4"
      ],
      "metadata": {
        "colab": {
          "base_uri": "https://localhost:8080/"
        },
        "id": "Xt1TK9Kfe5Kz",
        "outputId": "e1e41253-2202-47f9-b10e-5f49f34ade3f"
      },
      "execution_count": 26,
      "outputs": [
        {
          "output_type": "execute_result",
          "data": {
            "text/plain": [
              "Element\n",
              "Domestic supply quantity                  2161192.10\n",
              "Production                                2075072.89\n",
              "Food                                      1303841.28\n",
              "Total Population - Both sexes             1140605.00\n",
              "Food supply (kcal/capita/day)              455261.00\n",
              "Processing                                 308429.00\n",
              "Import Quantity                            287997.09\n",
              "Feed                                       233489.68\n",
              "Export Quantity                            181594.80\n",
              "Losses                                     163902.00\n",
              "Other uses (non-food)                       91300.97\n",
              "Food supply quantity (kg/capita/yr)         49056.85\n",
              "Residuals                                   34864.00\n",
              "Seed                                        25263.14\n",
              "Stock Variation                             20577.91\n",
              "Protein supply quantity (g/capita/day)      11833.56\n",
              "Fat supply quantity (g/capita/day)          10258.69\n",
              "Tourist consumption                            90.00\n",
              "Name: Y2018, dtype: float64"
            ]
          },
          "metadata": {},
          "execution_count": 26
        }
      ]
    },
    {
      "cell_type": "markdown",
      "source": [
        "#domestic supply quantity 2161192.10"
      ],
      "metadata": {
        "id": "TKhes7pPS7Ci"
      }
    },
    {
      "cell_type": "markdown",
      "source": [
        "#which of the element has the third lowest sum in 2018"
      ],
      "metadata": {
        "id": "wviTc5vfiLNg"
      }
    },
    {
      "cell_type": "code",
      "source": [
        "t5 = v2.groupby('Element')['Y2018'].sum().sort_values(ascending = True)\n",
        "t5"
      ],
      "metadata": {
        "colab": {
          "base_uri": "https://localhost:8080/"
        },
        "id": "Zgc9OTL_iTnk",
        "outputId": "201e38ea-915b-41b2-829b-98e2ad334488"
      },
      "execution_count": 27,
      "outputs": [
        {
          "output_type": "execute_result",
          "data": {
            "text/plain": [
              "Element\n",
              "Tourist consumption                            90.00\n",
              "Fat supply quantity (g/capita/day)          10258.69\n",
              "Protein supply quantity (g/capita/day)      11833.56\n",
              "Stock Variation                             20577.91\n",
              "Seed                                        25263.14\n",
              "Residuals                                   34864.00\n",
              "Food supply quantity (kg/capita/yr)         49056.85\n",
              "Other uses (non-food)                       91300.97\n",
              "Losses                                     163902.00\n",
              "Export Quantity                            181594.80\n",
              "Feed                                       233489.68\n",
              "Import Quantity                            287997.09\n",
              "Processing                                 308429.00\n",
              "Food supply (kcal/capita/day)              455261.00\n",
              "Total Population - Both sexes             1140605.00\n",
              "Food                                      1303841.28\n",
              "Production                                2075072.89\n",
              "Domestic supply quantity                  2161192.10\n",
              "Name: Y2018, dtype: float64"
            ]
          },
          "metadata": {},
          "execution_count": 27
        }
      ]
    },
    {
      "cell_type": "markdown",
      "source": [
        "#protein supply quantity"
      ],
      "metadata": {
        "id": "80kzlOzVThuM"
      }
    },
    {
      "cell_type": "markdown",
      "source": [
        "#what is the total import quantity in algeria in 2018"
      ],
      "metadata": {
        "id": "_55iqkQjjSgR"
      }
    },
    {
      "cell_type": "code",
      "source": [
        "t6 = v2.groupby(['Area', 'Element'])['Y2018'].sum()\n",
        "t6"
      ],
      "metadata": {
        "colab": {
          "base_uri": "https://localhost:8080/"
        },
        "id": "W9oNjsx0jeKD",
        "outputId": "6d6f0970-f1b4-4441-912f-ff2a0c54d0c9"
      },
      "execution_count": 28,
      "outputs": [
        {
          "output_type": "execute_result",
          "data": {
            "text/plain": [
              "Area      Element                               \n",
              "Algeria   Domestic supply quantity                  90023.42\n",
              "          Export Quantity                             811.54\n",
              "          Fat supply quantity (g/capita/day)          309.09\n",
              "          Feed                                      10668.00\n",
              "          Food                                      63736.33\n",
              "                                                      ...   \n",
              "Zimbabwe  Protein supply quantity (g/capita/day)      176.57\n",
              "          Residuals                                  -546.00\n",
              "          Seed                                        140.00\n",
              "          Stock Variation                            -447.00\n",
              "          Total Population - Both sexes             14439.00\n",
              "Name: Y2018, Length: 803, dtype: float64"
            ]
          },
          "metadata": {},
          "execution_count": 28
        }
      ]
    },
    {
      "cell_type": "markdown",
      "source": [
        "#36238.29"
      ],
      "metadata": {
        "id": "iwPiaMa_UrG-"
      }
    },
    {
      "cell_type": "markdown",
      "source": [
        "#accessing roles and columns by labels using loc"
      ],
      "metadata": {
        "id": "TbWY5BhekxZv"
      }
    },
    {
      "cell_type": "code",
      "source": [
        "t6.loc['Algeria']"
      ],
      "metadata": {
        "colab": {
          "base_uri": "https://localhost:8080/"
        },
        "id": "GXa59Behk5Kr",
        "outputId": "91f191f5-72a8-485b-fad1-d40984cd4e76"
      },
      "execution_count": 29,
      "outputs": [
        {
          "output_type": "execute_result",
          "data": {
            "text/plain": [
              "Element\n",
              "Domestic supply quantity                  90023.42\n",
              "Export Quantity                             811.54\n",
              "Fat supply quantity (g/capita/day)          309.09\n",
              "Feed                                      10668.00\n",
              "Food                                      63736.33\n",
              "Food supply (kcal/capita/day)             13288.00\n",
              "Food supply quantity (kg/capita/yr)        1509.28\n",
              "Import Quantity                           36238.29\n",
              "Losses                                     7708.00\n",
              "Other uses (non-food)                      3970.08\n",
              "Processing                                 2479.00\n",
              "Production                                60766.67\n",
              "Protein supply quantity (g/capita/day)      367.28\n",
              "Residuals                                   630.00\n",
              "Seed                                        825.00\n",
              "Stock Variation                            6172.00\n",
              "Total Population - Both sexes             42228.00\n",
              "Name: Y2018, dtype: float64"
            ]
          },
          "metadata": {},
          "execution_count": 29
        }
      ]
    },
    {
      "cell_type": "markdown",
      "source": [
        "#total number of unique countries"
      ],
      "metadata": {
        "id": "tdJna7S7lhAo"
      }
    },
    {
      "cell_type": "code",
      "source": [
        "v2.nunique()"
      ],
      "metadata": {
        "colab": {
          "base_uri": "https://localhost:8080/"
        },
        "id": "b60tOAo6lqK9",
        "outputId": "8be00e33-0d18-4be1-eb5e-892c90792cb7"
      },
      "execution_count": 30,
      "outputs": [
        {
          "output_type": "execute_result",
          "data": {
            "text/plain": [
              "Area Code         49\n",
              "Area              49\n",
              "Item Code        122\n",
              "Item             119\n",
              "Element Code      18\n",
              "Element           18\n",
              "Unit               5\n",
              "Y2014           4493\n",
              "Y2015           4520\n",
              "Y2016           4520\n",
              "Y2017           4537\n",
              "Y2018           4591\n",
              "dtype: int64"
            ]
          },
          "metadata": {},
          "execution_count": 30
        }
      ]
    },
    {
      "cell_type": "markdown",
      "source": [
        "#49"
      ],
      "metadata": {
        "id": "Rc6Bufd3ViUB"
      }
    },
    {
      "cell_type": "markdown",
      "source": [
        "#to check for unique countries"
      ],
      "metadata": {
        "id": "R7YSc1TNl6aB"
      }
    },
    {
      "cell_type": "code",
      "source": [
        "v2['Area'].unique()"
      ],
      "metadata": {
        "colab": {
          "base_uri": "https://localhost:8080/"
        },
        "id": "UlEHrT0kl_vF",
        "outputId": "78eb8102-325f-4c41-f0ee-3c9240725a13"
      },
      "execution_count": 31,
      "outputs": [
        {
          "output_type": "execute_result",
          "data": {
            "text/plain": [
              "array(['Algeria', 'Angola', 'Benin', 'Botswana', 'Burkina Faso',\n",
              "       'Cabo Verde', 'Cameroon', 'Central African Republic', 'Chad',\n",
              "       'Comoros', 'Congo', \"Côte d'Ivoire\", 'Djibouti', 'Egypt',\n",
              "       'Eswatini', 'Ethiopia', 'Ethiopia PDR', 'Gabon', 'Gambia', 'Ghana',\n",
              "       'Guinea', 'Guinea-Bissau', 'Kenya', 'Lesotho', 'Liberia',\n",
              "       'Madagascar', 'Malawi', 'Mali', 'Mauritania', 'Mauritius',\n",
              "       'Morocco', 'Mozambique', 'Namibia', 'Niger', 'Nigeria', 'Rwanda',\n",
              "       'Sao Tome and Principe', 'Senegal', 'Seychelles', 'Sierra Leone',\n",
              "       'South Africa', 'Sudan', 'Sudan (former)', 'Togo', 'Tunisia',\n",
              "       'Uganda', 'United Republic of Tanzania', 'Zambia', 'Zimbabwe'],\n",
              "      dtype=object)"
            ]
          },
          "metadata": {},
          "execution_count": 31
        }
      ]
    }
  ]
}